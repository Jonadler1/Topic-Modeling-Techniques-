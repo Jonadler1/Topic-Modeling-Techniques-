{
 "cells": [
  {
   "cell_type": "markdown",
   "id": "7dac214c",
   "metadata": {},
   "source": [
    "# Topic Modeling on a Ted Talk Recorded Session Transcript \n",
    "\n",
    "![Topic Modeling Bill Gates](https://talkstar-photos.s3.amazonaws.com/uploads/ba9f8c13-f0a9-4698-a435-5767e478d715/BillGates_2022-1350x675.jpg)\n",
    "\n",
    "After converting the speech-to-text recorded session of the interview with Bill Gates using the Google Cloud API service, now it is time to preprocess the text and implement various topic modeling algorithms, namely, **Latent Dirichlet Allocation (LDA)**, **Latent Semantic Analysis (LSA)**, and **BERTopic**. \n",
    "I also implemented those topic modeling techniques on a large and common dataset (**20 Newsgroups**) in order to serve as a base benchmark, that will help in providing more insights when reaching a conclusion regarding the performance of the ted_talk corpus of documents dataset. \n",
    "\n",
    "So, without further ado, Let’s begin. \n"
   ]
  },
  {
   "cell_type": "markdown",
   "id": "8d43a773",
   "metadata": {},
   "source": [
    "### Importing the Relevant Libraries "
   ]
  },
  {
   "cell_type": "code",
   "execution_count": 1,
   "id": "1de8dee6",
   "metadata": {},
   "outputs": [
    {
     "name": "stderr",
     "output_type": "stream",
     "text": [
      "[nltk_data] Downloading package stopwords to\n",
      "[nltk_data]     C:\\Users\\Yoni\\AppData\\Roaming\\nltk_data...\n",
      "[nltk_data]   Package stopwords is already up-to-date!\n"
     ]
    }
   ],
   "source": [
    "# Importing general libraries \n",
    "import re\n",
    "import numpy as np\n",
    "import pandas as pd\n",
    "from pprint import pprint\n",
    "\n",
    "# Importing the Gensim library\n",
    "import gensim\n",
    "import gensim.corpora as corpora\n",
    "from gensim.utils import simple_preprocess\n",
    "from gensim.models import CoherenceModel\n",
    "\n",
    "# I will use this library for implementing the truncated singular value decomposition for the LSA model\n",
    "from gensim.models import LsiModel \n",
    "\n",
    "\n",
    "# Importing nltk and downloading stopwords \n",
    "import nltk\n",
    "nltk.download('stopwords')\n",
    "\n",
    "# Importing spacy for lemmatization\n",
    "import spacy\n",
    "\n",
    "# Importing the BERTopic model\n",
    "from bertopic import BERTopic\n",
    "# Importing the sentence-transformers package for the purpose of document embeddings\n",
    "from sentence_transformers import SentenceTransformer\n",
    "from sentence_transformers import *\n",
    "# Importing UMAP for dimensionality reduction in the BERTopic model\n",
    "import umap\n",
    "# Importing HDBSCAN to perform its clustering\n",
    "import hdbscan\n",
    "\n",
    "# Importing various dimensionality reduction and clustering techniques \n",
    "from sklearn.cluster import MiniBatchKMeans\n",
    "from sklearn.decomposition import PCA\n",
    "from sklearn.manifold import TSNE\n",
    "\n",
    "\n",
    "# Importing LexRank, an unsupervised approach to text summarization based on graph-based centrality scoring of sentences\n",
    "from lexrank import *\n",
    "# Importing the torch package  \n",
    "import torch\n",
    "\n",
    "\n",
    "# Importing plotting tools\n",
    "import pyLDAvis\n",
    "import pyLDAvis.gensim_models  \n",
    "import matplotlib.pyplot as plt\n",
    "import matplotlib.cm as cm\n",
    "%matplotlib inline\n",
    "\n",
    "# Enabling logging for gensim\n",
    "import logging\n",
    "logging.basicConfig(format='%(asctime)s : %(levelname)s : %(message)s', level=logging.ERROR)\n",
    "\n",
    "# Importing warnings \n",
    "import warnings\n",
    "warnings.filterwarnings(\"ignore\",category=DeprecationWarning)"
   ]
  },
  {
   "cell_type": "markdown",
   "id": "e40f38a0",
   "metadata": {},
   "source": [
    "### Preparing Stopwords"
   ]
  },
  {
   "cell_type": "code",
   "execution_count": 2,
   "id": "9c790b93",
   "metadata": {},
   "outputs": [],
   "source": [
    "# Importing NLTK Stop words\n",
    "from nltk.corpus import stopwords\n",
    "stop_words = stopwords.words('english')\n",
    "stop_words.extend(['from', 'subject', 're', 'edu', 'use'])"
   ]
  },
  {
   "cell_type": "markdown",
   "id": "892d36c2",
   "metadata": {},
   "source": [
    "### Importing the Ted Talk Corpus of Documents "
   ]
  },
  {
   "cell_type": "code",
   "execution_count": 3,
   "id": "64092c81",
   "metadata": {},
   "outputs": [
    {
     "data": {
      "text/html": [
       "<div>\n",
       "<style scoped>\n",
       "    .dataframe tbody tr th:only-of-type {\n",
       "        vertical-align: middle;\n",
       "    }\n",
       "\n",
       "    .dataframe tbody tr th {\n",
       "        vertical-align: top;\n",
       "    }\n",
       "\n",
       "    .dataframe thead th {\n",
       "        text-align: right;\n",
       "    }\n",
       "</style>\n",
       "<table border=\"1\" class=\"dataframe\">\n",
       "  <thead>\n",
       "    <tr style=\"text-align: right;\">\n",
       "      <th></th>\n",
       "      <th>Sentences</th>\n",
       "      <th>Document#</th>\n",
       "    </tr>\n",
       "  </thead>\n",
       "  <tbody>\n",
       "    <tr>\n",
       "      <th>0</th>\n",
       "      <td>[\"it said that's a lie I merely asked you on T...</td>\n",
       "      <td>1</td>\n",
       "    </tr>\n",
       "    <tr>\n",
       "      <th>1</th>\n",
       "      <td>\"Bill Gates cousin self an imperfect Messenger...</td>\n",
       "      <td>2</td>\n",
       "    </tr>\n",
       "    <tr>\n",
       "      <th>2</th>\n",
       "      <td>\"who is the author of the book when I come bac...</td>\n",
       "      <td>3</td>\n",
       "    </tr>\n",
       "    <tr>\n",
       "      <th>3</th>\n",
       "      <td>\"you know it's pretty demanding it's not a 50%...</td>\n",
       "      <td>4</td>\n",
       "    </tr>\n",
       "    <tr>\n",
       "      <th>4</th>\n",
       "      <td>\"manufacturing including steel and cement peop...</td>\n",
       "      <td>5</td>\n",
       "    </tr>\n",
       "    <tr>\n",
       "      <th>5</th>\n",
       "      <td>\"yeah so the green premium berries from emissi...</td>\n",
       "      <td>6</td>\n",
       "    </tr>\n",
       "    <tr>\n",
       "      <th>6</th>\n",
       "      <td>\"X-Men where we haven't really gotten started ...</td>\n",
       "      <td>7</td>\n",
       "    </tr>\n",
       "    <tr>\n",
       "      <th>7</th>\n",
       "      <td>\"25% across all categories will that conversat...</td>\n",
       "      <td>8</td>\n",
       "    </tr>\n",
       "    <tr>\n",
       "      <th>8</th>\n",
       "      <td>\"and we have to do everything we can to accele...</td>\n",
       "      <td>9</td>\n",
       "    </tr>\n",
       "    <tr>\n",
       "      <th>9</th>\n",
       "      <td>\"where is now breakthrough energy Ventures as ...</td>\n",
       "      <td>10</td>\n",
       "    </tr>\n",
       "  </tbody>\n",
       "</table>\n",
       "</div>"
      ],
      "text/plain": [
       "                                           Sentences  Document#\n",
       "0  [\"it said that's a lie I merely asked you on T...          1\n",
       "1  \"Bill Gates cousin self an imperfect Messenger...          2\n",
       "2  \"who is the author of the book when I come bac...          3\n",
       "3  \"you know it's pretty demanding it's not a 50%...          4\n",
       "4  \"manufacturing including steel and cement peop...          5\n",
       "5  \"yeah so the green premium berries from emissi...          6\n",
       "6  \"X-Men where we haven't really gotten started ...          7\n",
       "7  \"25% across all categories will that conversat...          8\n",
       "8  \"and we have to do everything we can to accele...          9\n",
       "9  \"where is now breakthrough energy Ventures as ...         10"
      ]
     },
     "execution_count": 3,
     "metadata": {},
     "output_type": "execute_result"
    }
   ],
   "source": [
    "# Importing Dataset\n",
    "df = pd.read_json('tedtalk_corpus.json')\n",
    "df.head(10)"
   ]
  },
  {
   "cell_type": "code",
   "execution_count": 6,
   "id": "ba70054e",
   "metadata": {},
   "outputs": [
    {
     "data": {
      "text/plain": [
       "(59,)"
      ]
     },
     "execution_count": 6,
     "metadata": {},
     "output_type": "execute_result"
    }
   ],
   "source": [
    "df['Sentences'].shape"
   ]
  },
  {
   "cell_type": "markdown",
   "id": "6bccc52b",
   "metadata": {},
   "source": [
    "There are only 59 documents in my corpus from the recoded session with Bill Gates. This is a very small dataset, but to test my hypostasis of how well different types of topic models cope with this type of small dataset I will have to implement this corpus and reach the relevant conclusions based on the results. \n",
    "\n",
    "So, let's continue"
   ]
  },
  {
   "cell_type": "markdown",
   "id": "3521b2e2",
   "metadata": {},
   "source": [
    "### Removing Emails and Newline Characters"
   ]
  },
  {
   "cell_type": "code",
   "execution_count": 9,
   "id": "cba70d7a",
   "metadata": {},
   "outputs": [
    {
     "name": "stdout",
     "output_type": "stream",
     "text": [
      "['it said thats a lie I merely asked you on Today Show the philanthropist and Microsoft co-founder Bill Gates in conversation with Ted Global curator changes for the world to avoid climate disaster he talks or something called the green premium lays out Innovations we need to invest in and shares why younger Generations are the key to getting to net zero emissions and also have his love for burgers is changing the conversation is from March 2021 and part of countdown Ted Global initiative to xcelerate solutions to The Climate Crisis get involved at countdown head.com', 'Bill Gates cousin self an imperfect Messenger on climate because of his high carbon footprint and the lifestyle however he is just made a major contribution to our thinking about confronting climate change a book A book about decarbonizing our economy and Society its an optimistic can do kind of book with a strong focus on technological solutions he discusses the things we have such as wind and solar power the things we need to develop such as carbon free cement work a freestyle and long-term energy storage and he talks about the economics of it all introducing the concept of a green onion and simplifying here alone use that fighting climate change is going to be hard but its possible we can do it during the pathway to a clean and prosperous future for all', 'who is the author of the book when I come back to town thank you like to start where you start from the title of the book how to avoid the climate disaster which of course I presume that youre heading toward the time of disaster if we dont act differently so what is the single most important thing we must do to avoid the coming disaster the greenhouse gases we put into the atmosphere particularly Co to stay there for thousands of years and so its really the sum of all those submissions are forcing the temperature higher and higher which will have disastrous effects and so we have to take these emissions which are presently over 51 billion tonnes per year and ride those all the way down to zero and thats when the temperature will stop and creasing and the disastrous weather events wont get worse and worse', 'you know its pretty demanding its not a 50% reduction its all the way down to zero visualize the scale of a pocket scale of the problem and all the different sources and people are mostly where the production of electricity with natural gas and coal is being a big Source thats about 27% and theres someone where of Transportation including Passenger cars Passenger cars are 7% and transportation overall is 16% of the other three segments in which is 19 per cent Heating and Cooling buildings including using that for gas or 7% and then sadly the biggest Sacramento Mall', 'manufacturing including steel and cement people are least aware of that one and in fact that one is the most difficult for us to solve the size of the of the steel plant cement plants that paper plastic the industrial economy is gigantic and were asking that have to be changed in this earlier. When we dont even know how to make that change right now so Im simplifying things we grow things we got around to me and so we need to get to a point where green energy thats cheap as 40 fuse and new material stream of the cheapest car materials and you call that eliminating the green premium so to start tell us what you mean by Green premium', 'yeah so the green premium berries from emission sources hits the cost to buy that product where theres been no emissions versus all the cost we have today and so for an electric car the ring premium is reasonably modest you pay a little more upfront you save a bit on the maintenance and gasoline are you give up some range you have a longer charging time to go to the next 15 years because the volume is there and they are and hes being done we can expect that the electric car will be preferable it wont cost more will have a much higher range and so that green premium that today is about 15% is headed to be zero even without any government subsidies and so thats magic thats exactly what we need to do for every other category now', 'X-Men where we havent really gotten started yet the green premium today is almost double the price that is you pay $125 for a today but it would be almost double that if you insisted that it be green cement and so the way I think of this is in 2050 will be talkin to Indian same to them please use the green products is your building basic shelter you know simple air conditioning which theyll need because of the heat increaser in a lighting at night for students and unless were willing to subsidize it for the price is very low belsano this is a problem that the rich countries created that India suffering from and you need to take care of it so only by bringing that green premium down very dramatically about', '25% across all categories will that conversation go well so that India can make that shift until the key thing here is that the US has responsibility is not just 20 out its a mission thats very hard thing but were only 15% unless we threw our power of innovation make it so cheap for all countries to switch all categories then we simply arent going to get there and so the US really has to step up and use all of this Innovative capacity every year for the next 30 Years to happen in order for these breakthroughs to actually kind of who are the players who need to come together and usually happens at a pace of its own here we have this deadline 2015', 'and we have to do everything we can to accelerate it we need to raise the R&D budgets in these areas in 2015 I organized along with President Obama assign to the Paris climate talks where what Prime Minister Modi is labeled Mission and it was a commitment to double R&D budgets over a five-year period in all the the big countries came in and and made that pledge then we need lots of smart people who instead of working out of their problems are encouraged to work on these problems so coming up with funding for them is very very important Im doing some of that through what I call break to energy fellows we need high risk Capital to invest in these companies even though the risks are very very high and thats', 'where is now breakthrough energy Ventures as one group doing that and drawing lots of other people in but then the most difficult thing is we actually need markets for these products even it when they start out being more expensive and thats what I call Catalyst organizing the buying power of consumers and companies and governments so that we get on the learning curves get the scale going up like we did with solar wind across all these categories so its both Supply and Innovation and demand for the the green products if thats the', 'combination that can start us to make this change to the physical in the infrastructure of the entire physical economy the financial system as a whole right now is essentially funding expansion of fossil fuels consistent with him at 3 degrees Celsius in cuisine in a state or the finest me to Beyond venture-capital about needs to think and act differently', 'well if you look at the interest rates for a solar field versus any other types of Investments its not lower in a money is is very fungible its going to be a different projects but you know theres no sort of special rate for climate-related projects now in a governments tax incentive to improve those things but its not this is not just about reporting numbers its good to report numbers but the steel industry is providing a vital service even gasoline from 98 per cent of the cars being purchased today allows people to get to their job and so you know just I best mental owns not going to be the thing that creates the new alternative and brings that the cost of that down so the finance side will be important because the speed of deployment', 'solar wind needs to be accelerated dramatically beyond anything weve done today in fact you know an average will have to deploy three times as much every year as the peak year so far in a into those are the those are a key part of the solution theyre not the whole whole solution but the people sometimes think just by putting numbers in a disclosing numbers that somehow it all changes are by divesting that all changes the financial sector is important but without the Innovation theres theres nothing they can do is going towards cutting emissions by half by 2030 and on the way to Richie Net Zero by 2050', 'the only real measure of how well were doing is the green premium because thats what determines whether India and other developing countries will choose to use the Cerro Mission approach in 2050 at the idea that you know you if youre focusing on short-term reductions then you can say oh thats fantastic we just put billions of dollars into natural gas plants and even or ignoring that theres a lot of leaky pipes that doesnt get properly measured in a give them full credit and say thats a 50% reduction the the lifetime of that plant is greater than 30 years assuming youre getting value out of it over a longer period of time so to say hey Hallelujah we switch from coal to natural gas that has nothing to do with reaching zero it set you back because of the capital spending involve there and so its not a path to zero if youre just working', 'easy parts of the emission thats not a path the path is to take every source of admission and say oh my goodness how am I going to get that green for me Im down how many can I get back bring premium doubt you know otherwise and Im getting the 50% does not stop the problems at this is very top because of the nature has zero its not just a small small decrease', ' stop getting the green pin him down so you mention India at 2 to make sure that the transition transition is also an Indian store in an African story not only should which country has adopted the expected pensive teen am now to buy down the green pinot and make technology there for more accessible to low-income countries absolutely have to pick which product pads with scale will become Lo Green premium products and see you dont want to just randomly pick things that are low emission you have to pick things that will come down so like you know so far hydrogen fuel cells have knocked on that now they might in the future solar wind and lithium-ion weve seen these Incredible cost reduction since we have to', ' duplicate that for other areas things like offshore wind he pumped new ways of doing transmission in a we have to keep the electricity grid even in very bad weather conditions so thats where storage or nuclear and transmission will have to be scaled up in a very significant way in which we now have this open source mall to look at that and so the Divine of green products that demand signal I would I call Catalyst were going to have to orchestrate a lot of money many tens of billions of dollars for that that was one of the most expensive pieces so that the improvements in these other areas and some of them we havent even gotten started on what he did mostly a question of consuming Less in particular consuming less', ' energy and in the book you actually write several times that we need to consume more energy by living conditions that we take for granted should be made available to all humans and the human population is growing and so youre going as you provide shelter heating and air conditioning which anywhere near the equator will be more in demand since you have many days where you cant go Outdoors at all so were not going to stop making shelter were not going to stop making food and so we need to be able to multiply those processes by zero that is you make shelter but theres no emissions emissions thats how you get all the way down 2-0 now its me its so much easier if rich countries are consuming less', ' but you know how far will that go to your book if we eliminate the transition somehow can cost enter the key driver significant citizen involvement not enough on on those other valuables we need all these things if you dont have a d engagement particular by the younger generation making this a top priority every year for the next 30 years across all the developed countries we will not succeed and Im not the one who knows how to activate all those people Im super glad that the people are smart about that or are thinking its a necessary element likewise the', ' he said I do have experience and Innovation systems thats a necessary element you will not get there just by saying please stop using steel it it it wont happen and and so the Innovation piece has two to come along and particularly encouraging consumers to buy electric cars or artificial meat or electric heat pumps theyre part of driving that demand when I call the catalytic demand that long do it because some of these big projects like green hydrogen or green aviation fuel require billions and capital expense but the demand signal from Enlighten consumers is very important their political voice is very important theyre pushing the companies they work at is very important and so I absolutely agree', ' broadcast who cares about this particular understand how hard it is and dont say you know we can do it in 10 years they are super important and I know you love burgers and you tried an official burger and how do you find it yet Im an investor in all these impossible Beyond various people and I have to say the progress in that sector is greater than I expected five years ago I would have said that is as hard as manufacturing now its very hard but not as hard as manufacturing there is no you know impossible Foods Green steel and the quality is going to keep improving its its quite good today you know theres other companies coming into that space covering different types of food and as the volume goes up the price', ' go down and so yeah I think its quite promising I have to admit I dont hundred percent of my Burgers arent artificially at its about 50% but Ill get there its a star you already on 20 30 on that on the front so you mention yours proceeding you know how to say Exquisite modesty in the book where you say you think like an engineer as well they are mostly responding to voters interest most of the countries were talking about our our democracies and the', ' there are resources that will need to be put in like tax credits that includes buying green products or in a government purchasing up green products at slightly higher prices you know those are real trade-offs and you know making sure that the areas where theres lots of jobs in say coal mining or in a things for the demand will go down having that political sensitivity and thinking through can we put the new jobs in that area and what are the Departments handle that this is is a tough political problem and you know my admonition of people is not only to get educated themselves but help educate other people and often you know like in the US if its people are both parties thats even better be', ' the level of interest is high but it needs to get even higher almost like a moral mission of all young people to go beyond their individual success that they they believed that getting to serial by 2050 is is critical thank you now before we continue the interview I would like to take a short DeTour for 1 minute because my colleagues that had a death produced a series of seven animated videos inspired by your book they introduced the concept of NetZero discuss other questions and challenges I would like to share one shorty from one of those animations', ' you flip a switch coal Burns in a furnace which turns water into steam that steam spins a turbine which activates a generator which pushes electrons Through the Wire this current propagates through hundreds of miles of electric cables and arrives at your home', ' all around the world countless people are doing this every second flipping a switch plugging in pressing an on button so how much electricity does Humanity need', ' the answer to dads and too many other climate questions of course hes in the seven animations available on the site and data that YouTube channel did you mentioned before how does the younger Generations role in solving this problem inspire you', ' well they', ' make sure this is a priority and if we have you know its a priority for 4 years and its not for 4 years you cant ask investment in the new approach to take place hes got to be pretty clear that even though in a political parties May disagree on the tactics of the same way they agree there should be a strong defense that they agree this 0 by 2050 is a shared goal and then you know just got the okay how do you were discovered command word its a private sector come in which area of the service priority and that will be a huge milestone where its a a discussion about how to get there first asked whether to get there in the U.S has the most fraught and terms of it being in a politicized even in terms of used to say a huge problem', ' you know young people theyre going to be around to see the good news is if we were able to achieve this you know I wont and Ill be around but you know they they speak with moral Authority and they have in a particular people are stepping up on this but you know I hope thats just the beginning and Im not quite this year I think is so important all this recovery money being program people thinking about the governments protect us the way they should I do government work together in a dependent because T this up its okay whats the next big problem we need to collaborate around and I and Im hoping that climate appears because of these activist', ' maybe going to come back to her the pandemic question better want to talk about some specific technology breakthroughs that you mentioned in the book but you also just mentioned that the Breakthrough energy best thing to clean tech startup and advocate for what hes going to do in several Technologies including children died of carbon capture Edition by if you want to ask you about specific investment but I would like to ask you to discuss why do spirits may be starting with green hydrogen if we can get green hydrogen thats very cheap and we dont know that we can', ' that becomes a Magic ingredients to a lot of processes that let you make fertilizer without using natural gas it let you reduce iron or steel production without using any form of coal and so theres two ways to make you can take water and split into hydrogen and oxygen intake natural gas and pull out the hydrogen and so its kind of a holy grail and until we need to get going we need to get the all the components to be very very cheap and only by actually doing projects significant scale projects do you get on to that learning curve and so Catalyst will fund you know the early pilot projects along with governments to go', ' and Ill go make green hydrogen get the electrolyzers to get up in volume and get a lot cheaper because that would that would be a huge Advance a lot of manufacturing not all of it but a lot of it would be solved with that so just for those was done no green hydrogen hes produced clean energy source is Wayne store and buy theirs and produced from natural gas to propane gas is called gray hydrogen burning carbon from the atmosphere and the least in theory we can find a way to do that at large-scale together before then or just the problem could be solved but its a very early stage unproven technology you describe yourself in the book as a thought experiment at this stage but youre one of the main investors in the sector in the world so whats the real potential for Direct', ' yes sir there is a company today climb works that for a bit over $600 a ton will do capture now its a fairly small scale customer of theirs has part of my program where I live and all my carbon emissions in a Gold Standard whey other other people are trying to do larger-scale plants like carbon Engineering in a breakthrough energies investing in a number of these carbon capture entities in a way that carbon capture is for the part that you cant solve any other way its kind of the Brute Force peace and no one knows what that price will be in if its $100 a tonne then you know the cost against current emissions would be 5 trillion a year can we get below $100 a tonne its not not clear that we can', ' but it would be fantastic to take the final ten 15% of the missions and instead of making the change at the place where the admission takes place just do this structure capture to be clear that youre just filter in the air and youre pulling out the 410 million parts per million and putting that into a pressurized form of CO2 that then you sequester in some place that you know itll stay for millions of years and so its this industry is just at the very very beginning but its a necessary piece for the tale of of emissions third priority is efficient if he was flying over the last several years to become a symbol of polluting lifestyle', ' the great thing about Pastor cars is that in a batteries dont store', ' energy as well as gasoline does a romantic difference the you can afford to have the exercise and weight of those batteries on a plane that is a large plane going a long distance theres no chance that batteries will ever have that energy density I mean theres some crazy people who are working out and Ill be glad to find that but you wouldnt want to count on that and so you either have to use hydrogen as a plane pill that has 4 challenges or you just want to make todays aviation fuel with green prophecies like using plants as the source of how you make those and so Im the biggest individual customer group that makes green aviation fuel so thats what Im using now cost', ' as the normal aviation fuel but as the demand scales up you know thats one of those green premiums that we hope to bring down so that you know some point lots of consumers will say yes Ill pay a little extra on my plane ticket probably through Catalyst or through the airline to make sure that that were building up that industry and trying to get the the cost the great that cream premium down quite a bit so this is a super important area that you know I was amazed when I went to buy that you know I was by far the biggest individual customer its all sorts of course Im very symbolic have your eyes people think of cars and think of airplanes when they think of a solution and and and and the mission', ' its your case for neuter be appreciated is the energy has to come from somewhere and so is you stop using that for gas to heat homes and gasoline to power cars the electric grid will have to grow dramatically and even in the case of the US where electricity demand has been plowed the last two decades will mean to be almost three times as large as you do that with weather-dependent sources the reliability of the electricity generation goes away that is you get big cold front step for 10 days can stop most of the wind and solar saying in the in the midwest so the question is', ' how do you use massive amounts of transmission and storage and non weather dependent sources which its scale nucleares is the only choice there to maintain that reliability and not have people say freeze to death and nuclear people be pretty impressed with how valuable it is to create that reliability now 80% at least in the US will be wind and solar so we have to build that faster than ever but you know what is that piece thats always available is is where nuclear would fit in', ' are you talk a lot about scaling up the college in the book I want to ask you a question about scaling down cuz one thing thats absent from your book is a discussion about scaling down for the fuel production may be starting with at least not expanding it anymore with adopting a sort of fossil-fuel non-proliferation approach because right now were building our future infrastructure what whats your view on that demand for fossil fuels and the fact that the green premium is very high if you want to restrict Supply', ' Daniel Gil Drive the price up you know people still want to drive to their job if you know say you made fossil fuels illegal you know try that for a few weeks I might be with you have to create a substitute because the services provided by the fossil-fuel are actually quite valuable electricity is value transportation is valuable and are you willing to drop demand for those things 20 and Saudi the capitalistic economy will respond if its clear you know how youre going to do your tax policies in your credit youre going to drive Innovation then the infrastructure investments in those things will go down we see that with cold already today but it it just speaking against something when you have a create an altar', ' isnt going to get you 20 and read the letter M on dates with the climate challenge actually apply to Planet to avoid disastrous future outcomes in individual citizens arent equipped to either do those evaluations or you know think through the. Orandi and deployment plan thats necessary here and so we have to make it imperative that governments hopefully if any', ' party going into this the pandemic we did eventually get Global cooperation the US didnt play its normal role there but the private sector Innovation created the vaccine now sadly would claim that the pain is causing gets worse over time so it would depend Emich we had all these deaths and people were like wow okay we should do something with climate you cant wait you know the coral reefs will have died off the species will be gone and so if you say okay will let you know when it gets bad will invent something like a vaccine that doesnt work because to stop the emissions you have to change every steel plant cement plant you know car things that have massive lead times and literally trillions of dollars of investment and so you know what the pandemic we messed up we didnt pay attention', ' people like myself said it was her problem but you know now were getting our way out of it to Innovation climates harder much are the problem so the political will to get it right needs to be unprecedented compared to the pandemic girl almost any other political cause I want to correct you on the point about Planet X renovation because of course a lot of public money went into funding research and and I got it purchases and so forth that Ive seen but thats a separate interview with no government money Big Challenge is over half of the total of greenhouse gas emissions since 1750 or 51 its got up in the atmosphere in the last 30 years Ive known for more than 30 years that they have an opening', ' to say the least and policies in collaborations in a weve wasted a lot of time that we should have used to work on the hard parts of climates just having short-term goals and not focusing on the R&B peace in the last 20 years we dont have much to show for the card categories now you know theres still time to get there we will have to find out a piece of a great deal because the 2015 is not because thats a goal that gives you 0 damage its simply the school that is the most ambitious that has a chance of being achieved', ' and we are causing problems for subsistence farmers and sea-level rise and wildfires and natural ecosystems and so the adaptation side is even more underfunded in the mitigation side for example you know helping poor Farmers with seeds that can deal with the the droughts and high temperatures is funded it less than a billion a year which is is deeply tragic', ' when youre heading towards the end I mentioned the beginning of the book you describe yourself as an imperfect Messenger on climate what changes made in your personal and family life would use your footprint driving an electric car in putting solar panels on the houses and where that makes sense in using this green aviation fuel you know I still cant say that you know Ive stopped eating meat or that I never fly and so its mostly by funding over 7 million a year the products that although their green premiums are very high today like the carbon capture like the aviation fuel if he knows you actually going to get those on to the learning curve to get those prices down very dramatic', ' what area did I do is hide fund putting in electric heat pumps in the low-cost housing and so instead of using that they get a lower bill because its the city and I paid that extra Capital cost as as an offset so you know accelerating those demands things you know I tried to get out in front of that you also talking to book about the pay more than market value or the current market price for upsets and you hinted to him before talking about the golden standard tell us about what kind of process can be kind of confusing and controversial what kind of sets', ' well first of all its great that were finally talking about offsets and any company that actually looks at their emissions and pays for offsets is way better than a company that either doesnt look at their missions or looks at them and doesnt pay for offsets and so the leading companies are now buying offsets some of them spending hundreds of millions to buy offsets that is a very very good thing the ability to see which offsets actually have long-term benefit that really keep the carbon out for the over thousands of years to count their now organizations that I and others are funny to label offsets this either gold standard', ' different levels of the impact and youre the price of offsets Range from $15 a tonne to $600 a tonne some of the low-cost ones may be really lived in a like reducing natural gas leakage is is pretty dramatic in some cases in terms of the dollars per tons of waited there a lot of the forest three things will probably not end up looking that good as you really look at the lifetime of the tree or what would have happened otherwise. Do you know at least were talking about offsets now and now were going to do it in a thoughtful way to the interview may already be very well this time you be looking for ways to to step up and at the end of the book Giver chapter about individual action give us maybe', ' I say two examples two practical examples of things that individual citizens in the US but also as were can do to play a meaningful role in tackling climate change', ' everybody should start by learning more you know you know how much steel do we make can where are the soap steel plants and although sadly its a source of so many missions once you really educate yourself then youre in a position to educate others hopefully of diverse political beliefs about why this is so important and yet you know its also very very hard to do you have all your buying Behavior electric cars out of his shell mean you know and youll see for all the different products berries things that indicate how green that product is and your demand doesnt just save those emissions it also encourages the Improvement of of the green product in a political voice Id still put it in a one', ' in a making sure your company is measuring its its emissions and is starting to fund offsets on his willing to be a customer for you no breakthrough Storage Solutions or in the green aviation fuel that is catalytic and love those funds hopefully well go through this vehicle thats really identify which projects globally are technologies that that wont stay expensive fiction do like what solar and wind it in and come down and in price so individuals are what drive this thing me and the democracies are where are most Innovation power is and they have to get activated and then set the example', ' I would like to to end on the outcome maybe we should have started with the outcome but lets imagine a world where we will actually have done all of what you described in the book and everything else thats necessary what would the future everyday life look like', ' I think everybody will be really proud that Humanity came together on a global basis to make this radical change and theres no precedent for it in the human world war is for we orchestrated lots of resources and I was like a 45-year duration and here were talking about three decades of hard work dealing with an enemy that super bad stuff is out in the future and so youre benefiting young people and in future Generations in some ways you know I am a life will look a lot like it does today youll still have buildings youll have air conditioning you have lights at night but all of those your * 0 in terms of what the emissions that come out of those activities are you know during the same time frame will have a dance', ' send Medicine of curing cancer and finishing polio and malaria and all sorts of things and so by taking away this ones super negative thing then all the progress we make another areas in a wont get reduced by this awful thing that if its goes unchecked the migration out of the equatorial regions in the number of decimate the pandemic look like nothing you know I think so from a moral point of view and letting the other improvements not be offset by this', ' itll be', ' a a source of great pride that hey we came together thats something we actually do a big thank you for sharing your knowledge thank you for this very very important for the book and thank you for coming back to today']\n"
     ]
    }
   ],
   "source": [
    "# Converting to list\n",
    "data = df.Sentences.values.tolist()\n",
    "\n",
    "# Removing new line characters\n",
    "data = [re.sub('\\s+', ' ', sent) for sent in data]\n",
    "\n",
    "\n",
    "\n",
    "# Removing distracting single marks\n",
    "data = [re.sub(\"\\'\", \"\", sent) for sent in data]\n",
    "data = [re.sub(\",\", \"\", sent) for sent in data]\n",
    "data = [re.sub(\"\\[\", \"\", sent) for sent in data]\n",
    "data = [re.sub(\"\\]\", \"\", sent) for sent in data]\n",
    "data = [re.sub(\"\\\"\", \"\", sent) for sent in data]\n",
    "\n",
    "\n",
    "print(data)"
   ]
  },
  {
   "cell_type": "markdown",
   "id": "2f609f05",
   "metadata": {},
   "source": [
    "### Tokenizing Words and Clean-Up Text"
   ]
  },
  {
   "cell_type": "code",
   "execution_count": 10,
   "id": "06c1dba6",
   "metadata": {},
   "outputs": [
    {
     "name": "stdout",
     "output_type": "stream",
     "text": [
      "[['it', 'said', 'thats', 'lie', 'merely', 'asked', 'you', 'on', 'today', 'show', 'the', 'philanthropist', 'and', 'microsoft', 'co', 'founder', 'bill', 'gates', 'in', 'conversation', 'with', 'ted', 'global', 'curator', 'changes', 'for', 'the', 'world', 'to', 'avoid', 'climate', 'disaster', 'he', 'talks', 'or', 'something', 'called', 'the', 'green', 'premium', 'lays', 'out', 'innovations', 'we', 'need', 'to', 'invest', 'in', 'and', 'shares', 'why', 'younger', 'generations', 'are', 'the', 'key', 'to', 'getting', 'to', 'net', 'zero', 'emissions', 'and', 'also', 'have', 'his', 'love', 'for', 'burgers', 'is', 'changing', 'the', 'conversation', 'is', 'from', 'march', 'and', 'part', 'of', 'countdown', 'ted', 'global', 'initiative', 'to', 'xcelerate', 'solutions', 'to', 'the', 'climate', 'crisis', 'get', 'involved', 'at', 'countdown', 'head', 'com'], ['bill', 'gates', 'cousin', 'self', 'an', 'imperfect', 'messenger', 'on', 'climate', 'because', 'of', 'his', 'high', 'carbon', 'footprint', 'and', 'the', 'lifestyle', 'however', 'he', 'is', 'just', 'made', 'major', 'contribution', 'to', 'our', 'thinking', 'about', 'confronting', 'climate', 'change', 'book', 'book', 'about', 'decarbonizing', 'our', 'economy', 'and', 'society', 'its', 'an', 'optimistic', 'can', 'do', 'kind', 'of', 'book', 'with', 'strong', 'focus', 'on', 'technological', 'solutions', 'he', 'discusses', 'the', 'things', 'we', 'have', 'such', 'as', 'wind', 'and', 'solar', 'power', 'the', 'things', 'we', 'need', 'to', 'develop', 'such', 'as', 'carbon', 'free', 'cement', 'work', 'freestyle', 'and', 'long', 'term', 'energy', 'storage', 'and', 'he', 'talks', 'about', 'the', 'economics', 'of', 'it', 'all', 'introducing', 'the', 'concept', 'of', 'green', 'onion', 'and', 'simplifying', 'here', 'alone', 'use', 'that', 'fighting', 'climate', 'change', 'is', 'going', 'to', 'be', 'hard', 'but', 'its', 'possible', 'we', 'can', 'do', 'it', 'during', 'the', 'pathway', 'to', 'clean', 'and', 'prosperous', 'future', 'for', 'all'], ['who', 'is', 'the', 'author', 'of', 'the', 'book', 'when', 'come', 'back', 'to', 'town', 'thank', 'you', 'like', 'to', 'start', 'where', 'you', 'start', 'from', 'the', 'title', 'of', 'the', 'book', 'how', 'to', 'avoid', 'the', 'climate', 'disaster', 'which', 'of', 'course', 'presume', 'that', 'youre', 'heading', 'toward', 'the', 'time', 'of', 'disaster', 'if', 'we', 'dont', 'act', 'differently', 'so', 'what', 'is', 'the', 'single', 'most', 'important', 'thing', 'we', 'must', 'do', 'to', 'avoid', 'the', 'coming', 'disaster', 'the', 'greenhouse', 'gases', 'we', 'put', 'into', 'the', 'atmosphere', 'particularly', 'co', 'to', 'stay', 'there', 'for', 'thousands', 'of', 'years', 'and', 'so', 'its', 'really', 'the', 'sum', 'of', 'all', 'those', 'submissions', 'are', 'forcing', 'the', 'temperature', 'higher', 'and', 'higher', 'which', 'will', 'have', 'disastrous', 'effects', 'and', 'so', 'we', 'have', 'to', 'take', 'these', 'emissions', 'which', 'are', 'presently', 'over', 'billion', 'tonnes', 'per', 'year', 'and', 'ride', 'those', 'all', 'the', 'way', 'down', 'to', 'zero', 'and', 'thats', 'when', 'the', 'temperature', 'will', 'stop', 'and', 'creasing', 'and', 'the', 'disastrous', 'weather', 'events', 'wont', 'get', 'worse', 'and', 'worse'], ['you', 'know', 'its', 'pretty', 'demanding', 'its', 'not', 'reduction', 'its', 'all', 'the', 'way', 'down', 'to', 'zero', 'visualize', 'the', 'scale', 'of', 'pocket', 'scale', 'of', 'the', 'problem', 'and', 'all', 'the', 'different', 'sources', 'and', 'people', 'are', 'mostly', 'where', 'the', 'production', 'of', 'electricity', 'with', 'natural', 'gas', 'and', 'coal', 'is', 'being', 'big', 'source', 'thats', 'about', 'and', 'theres', 'someone', 'where', 'of', 'transportation', 'including', 'passenger', 'cars', 'passenger', 'cars', 'are', 'and', 'transportation', 'overall', 'is', 'of', 'the', 'other', 'three', 'segments', 'in', 'which', 'is', 'per', 'cent', 'heating', 'and', 'cooling', 'buildings', 'including', 'using', 'that', 'for', 'gas', 'or', 'and', 'then', 'sadly', 'the', 'biggest', 'sacramento', 'mall'], ['manufacturing', 'including', 'steel', 'and', 'cement', 'people', 'are', 'least', 'aware', 'of', 'that', 'one', 'and', 'in', 'fact', 'that', 'one', 'is', 'the', 'most', 'difficult', 'for', 'us', 'to', 'solve', 'the', 'size', 'of', 'the', 'of', 'the', 'steel', 'plant', 'cement', 'plants', 'that', 'paper', 'plastic', 'the', 'industrial', 'economy', 'is', 'gigantic', 'and', 'were', 'asking', 'that', 'have', 'to', 'be', 'changed', 'in', 'this', 'earlier', 'when', 'we', 'dont', 'even', 'know', 'how', 'to', 'make', 'that', 'change', 'right', 'now', 'so', 'im', 'simplifying', 'things', 'we', 'grow', 'things', 'we', 'got', 'around', 'to', 'me', 'and', 'so', 'we', 'need', 'to', 'get', 'to', 'point', 'where', 'green', 'energy', 'thats', 'cheap', 'as', 'fuse', 'and', 'new', 'material', 'stream', 'of', 'the', 'cheapest', 'car', 'materials', 'and', 'you', 'call', 'that', 'eliminating', 'the', 'green', 'premium', 'so', 'to', 'start', 'tell', 'us', 'what', 'you', 'mean', 'by', 'green', 'premium'], ['yeah', 'so', 'the', 'green', 'premium', 'berries', 'from', 'emission', 'sources', 'hits', 'the', 'cost', 'to', 'buy', 'that', 'product', 'where', 'theres', 'been', 'no', 'emissions', 'versus', 'all', 'the', 'cost', 'we', 'have', 'today', 'and', 'so', 'for', 'an', 'electric', 'car', 'the', 'ring', 'premium', 'is', 'reasonably', 'modest', 'you', 'pay', 'little', 'more', 'upfront', 'you', 'save', 'bit', 'on', 'the', 'maintenance', 'and', 'gasoline', 'are', 'you', 'give', 'up', 'some', 'range', 'you', 'have', 'longer', 'charging', 'time', 'to', 'go', 'to', 'the', 'next', 'years', 'because', 'the', 'volume', 'is', 'there', 'and', 'they', 'are', 'and', 'hes', 'being', 'done', 'we', 'can', 'expect', 'that', 'the', 'electric', 'car', 'will', 'be', 'preferable', 'it', 'wont', 'cost', 'more', 'will', 'have', 'much', 'higher', 'range', 'and', 'so', 'that', 'green', 'premium', 'that', 'today', 'is', 'about', 'is', 'headed', 'to', 'be', 'zero', 'even', 'without', 'any', 'government', 'subsidies', 'and', 'so', 'thats', 'magic', 'thats', 'exactly', 'what', 'we', 'need', 'to', 'do', 'for', 'every', 'other', 'category', 'now'], ['men', 'where', 'we', 'havent', 'really', 'gotten', 'started', 'yet', 'the', 'green', 'premium', 'today', 'is', 'almost', 'double', 'the', 'price', 'that', 'is', 'you', 'pay', 'for', 'today', 'but', 'it', 'would', 'be', 'almost', 'double', 'that', 'if', 'you', 'insisted', 'that', 'it', 'be', 'green', 'cement', 'and', 'so', 'the', 'way', 'think', 'of', 'this', 'is', 'in', 'will', 'be', 'talkin', 'to', 'indian', 'same', 'to', 'them', 'please', 'use', 'the', 'green', 'products', 'is', 'your', 'building', 'basic', 'shelter', 'you', 'know', 'simple', 'air', 'conditioning', 'which', 'theyll', 'need', 'because', 'of', 'the', 'heat', 'increaser', 'in', 'lighting', 'at', 'night', 'for', 'students', 'and', 'unless', 'were', 'willing', 'to', 'subsidize', 'it', 'for', 'the', 'price', 'is', 'very', 'low', 'belsano', 'this', 'is', 'problem', 'that', 'the', 'rich', 'countries', 'created', 'that', 'india', 'suffering', 'from', 'and', 'you', 'need', 'to', 'take', 'care', 'of', 'it', 'so', 'only', 'by', 'bringing', 'that', 'green', 'premium', 'down', 'very', 'dramatically', 'about'], ['across', 'all', 'categories', 'will', 'that', 'conversation', 'go', 'well', 'so', 'that', 'india', 'can', 'make', 'that', 'shift', 'until', 'the', 'key', 'thing', 'here', 'is', 'that', 'the', 'us', 'has', 'responsibility', 'is', 'not', 'just', 'out', 'its', 'mission', 'thats', 'very', 'hard', 'thing', 'but', 'were', 'only', 'unless', 'we', 'threw', 'our', 'power', 'of', 'innovation', 'make', 'it', 'so', 'cheap', 'for', 'all', 'countries', 'to', 'switch', 'all', 'categories', 'then', 'we', 'simply', 'arent', 'going', 'to', 'get', 'there', 'and', 'so', 'the', 'us', 'really', 'has', 'to', 'step', 'up', 'and', 'use', 'all', 'of', 'this', 'innovative', 'capacity', 'every', 'year', 'for', 'the', 'next', 'years', 'to', 'happen', 'in', 'order', 'for', 'these', 'breakthroughs', 'to', 'actually', 'kind', 'of', 'who', 'are', 'the', 'players', 'who', 'need', 'to', 'come', 'together', 'and', 'usually', 'happens', 'at', 'pace', 'of', 'its', 'own', 'here', 'we', 'have', 'this', 'deadline'], ['and', 'we', 'have', 'to', 'do', 'everything', 'we', 'can', 'to', 'accelerate', 'it', 'we', 'need', 'to', 'raise', 'the', 'budgets', 'in', 'these', 'areas', 'in', 'organized', 'along', 'with', 'president', 'obama', 'assign', 'to', 'the', 'paris', 'climate', 'talks', 'where', 'what', 'prime', 'minister', 'modi', 'is', 'labeled', 'mission', 'and', 'it', 'was', 'commitment', 'to', 'double', 'budgets', 'over', 'five', 'year', 'period', 'in', 'all', 'the', 'the', 'big', 'countries', 'came', 'in', 'and', 'and', 'made', 'that', 'pledge', 'then', 'we', 'need', 'lots', 'of', 'smart', 'people', 'who', 'instead', 'of', 'working', 'out', 'of', 'their', 'problems', 'are', 'encouraged', 'to', 'work', 'on', 'these', 'problems', 'so', 'coming', 'up', 'with', 'funding', 'for', 'them', 'is', 'very', 'very', 'important', 'im', 'doing', 'some', 'of', 'that', 'through', 'what', 'call', 'break', 'to', 'energy', 'fellows', 'we', 'need', 'high', 'risk', 'capital', 'to', 'invest', 'in', 'these', 'companies', 'even', 'though', 'the', 'risks', 'are', 'very', 'very', 'high', 'and', 'thats'], ['where', 'is', 'now', 'breakthrough', 'energy', 'ventures', 'as', 'one', 'group', 'doing', 'that', 'and', 'drawing', 'lots', 'of', 'other', 'people', 'in', 'but', 'then', 'the', 'most', 'difficult', 'thing', 'is', 'we', 'actually', 'need', 'markets', 'for', 'these', 'products', 'even', 'it', 'when', 'they', 'start', 'out', 'being', 'more', 'expensive', 'and', 'thats', 'what', 'call', 'catalyst', 'organizing', 'the', 'buying', 'power', 'of', 'consumers', 'and', 'companies', 'and', 'governments', 'so', 'that', 'we', 'get', 'on', 'the', 'learning', 'curves', 'get', 'the', 'scale', 'going', 'up', 'like', 'we', 'did', 'with', 'solar', 'wind', 'across', 'all', 'these', 'categories', 'so', 'its', 'both', 'supply', 'and', 'innovation', 'and', 'demand', 'for', 'the', 'the', 'green', 'products', 'if', 'thats', 'the'], ['combination', 'that', 'can', 'start', 'us', 'to', 'make', 'this', 'change', 'to', 'the', 'physical', 'in', 'the', 'infrastructure', 'of', 'the', 'entire', 'physical', 'economy', 'the', 'financial', 'system', 'as', 'whole', 'right', 'now', 'is', 'essentially', 'funding', 'expansion', 'of', 'fossil', 'fuels', 'consistent', 'with', 'him', 'at', 'degrees', 'celsius', 'in', 'cuisine', 'in', 'state', 'or', 'the', 'finest', 'me', 'to', 'beyond', 'venture', 'capital', 'about', 'needs', 'to', 'think', 'and', 'act', 'differently'], ['well', 'if', 'you', 'look', 'at', 'the', 'interest', 'rates', 'for', 'solar', 'field', 'versus', 'any', 'other', 'types', 'of', 'investments', 'its', 'not', 'lower', 'in', 'money', 'is', 'is', 'very', 'fungible', 'its', 'going', 'to', 'be', 'different', 'projects', 'but', 'you', 'know', 'theres', 'no', 'sort', 'of', 'special', 'rate', 'for', 'climate', 'related', 'projects', 'now', 'in', 'governments', 'tax', 'incentive', 'to', 'improve', 'those', 'things', 'but', 'its', 'not', 'this', 'is', 'not', 'just', 'about', 'reporting', 'numbers', 'its', 'good', 'to', 'report', 'numbers', 'but', 'the', 'steel', 'industry', 'is', 'providing', 'vital', 'service', 'even', 'gasoline', 'from', 'per', 'cent', 'of', 'the', 'cars', 'being', 'purchased', 'today', 'allows', 'people', 'to', 'get', 'to', 'their', 'job', 'and', 'so', 'you', 'know', 'just', 'best', 'mental', 'owns', 'not', 'going', 'to', 'be', 'the', 'thing', 'that', 'creates', 'the', 'new', 'alternative', 'and', 'brings', 'that', 'the', 'cost', 'of', 'that', 'down', 'so', 'the', 'finance', 'side', 'will', 'be', 'important', 'because', 'the', 'speed', 'of', 'deployment'], ['solar', 'wind', 'needs', 'to', 'be', 'accelerated', 'dramatically', 'beyond', 'anything', 'weve', 'done', 'today', 'in', 'fact', 'you', 'know', 'an', 'average', 'will', 'have', 'to', 'deploy', 'three', 'times', 'as', 'much', 'every', 'year', 'as', 'the', 'peak', 'year', 'so', 'far', 'in', 'into', 'those', 'are', 'the', 'those', 'are', 'key', 'part', 'of', 'the', 'solution', 'theyre', 'not', 'the', 'whole', 'whole', 'solution', 'but', 'the', 'people', 'sometimes', 'think', 'just', 'by', 'putting', 'numbers', 'in', 'disclosing', 'numbers', 'that', 'somehow', 'it', 'all', 'changes', 'are', 'by', 'divesting', 'that', 'all', 'changes', 'the', 'financial', 'sector', 'is', 'important', 'but', 'without', 'the', 'innovation', 'theres', 'theres', 'nothing', 'they', 'can', 'do', 'is', 'going', 'towards', 'cutting', 'emissions', 'by', 'half', 'by', 'and', 'on', 'the', 'way', 'to', 'richie', 'net', 'zero', 'by'], ['the', 'only', 'real', 'measure', 'of', 'how', 'well', 'were', 'doing', 'is', 'the', 'green', 'premium', 'because', 'thats', 'what', 'determines', 'whether', 'india', 'and', 'other', 'developing', 'countries', 'will', 'choose', 'to', 'use', 'the', 'cerro', 'mission', 'approach', 'in', 'at', 'the', 'idea', 'that', 'you', 'know', 'you', 'if', 'youre', 'focusing', 'on', 'short', 'term', 'reductions', 'then', 'you', 'can', 'say', 'oh', 'thats', 'fantastic', 'we', 'just', 'put', 'billions', 'of', 'dollars', 'into', 'natural', 'gas', 'plants', 'and', 'even', 'or', 'ignoring', 'that', 'theres', 'lot', 'of', 'leaky', 'pipes', 'that', 'doesnt', 'get', 'properly', 'measured', 'in', 'give', 'them', 'full', 'credit', 'and', 'say', 'thats', 'reduction', 'the', 'the', 'lifetime', 'of', 'that', 'plant', 'is', 'greater', 'than', 'years', 'assuming', 'youre', 'getting', 'value', 'out', 'of', 'it', 'over', 'longer', 'period', 'of', 'time', 'so', 'to', 'say', 'hey', 'hallelujah', 'we', 'switch', 'from', 'coal', 'to', 'natural', 'gas', 'that', 'has', 'nothing', 'to', 'do', 'with', 'reaching', 'zero', 'it', 'set', 'you', 'back', 'because', 'of', 'the', 'capital', 'spending', 'involve', 'there', 'and', 'so', 'its', 'not', 'path', 'to', 'zero', 'if', 'youre', 'just', 'working'], ['easy', 'parts', 'of', 'the', 'emission', 'thats', 'not', 'path', 'the', 'path', 'is', 'to', 'take', 'every', 'source', 'of', 'admission', 'and', 'say', 'oh', 'my', 'goodness', 'how', 'am', 'going', 'to', 'get', 'that', 'green', 'for', 'me', 'im', 'down', 'how', 'many', 'can', 'get', 'back', 'bring', 'premium', 'doubt', 'you', 'know', 'otherwise', 'and', 'im', 'getting', 'the', 'does', 'not', 'stop', 'the', 'problems', 'at', 'this', 'is', 'very', 'top', 'because', 'of', 'the', 'nature', 'has', 'zero', 'its', 'not', 'just', 'small', 'small', 'decrease'], ['stop', 'getting', 'the', 'green', 'pin', 'him', 'down', 'so', 'you', 'mention', 'india', 'at', 'to', 'make', 'sure', 'that', 'the', 'transition', 'transition', 'is', 'also', 'an', 'indian', 'store', 'in', 'an', 'african', 'story', 'not', 'only', 'should', 'which', 'country', 'has', 'adopted', 'the', 'expected', 'pensive', 'teen', 'am', 'now', 'to', 'buy', 'down', 'the', 'green', 'pinot', 'and', 'make', 'technology', 'there', 'for', 'more', 'accessible', 'to', 'low', 'income', 'countries', 'absolutely', 'have', 'to', 'pick', 'which', 'product', 'pads', 'with', 'scale', 'will', 'become', 'lo', 'green', 'premium', 'products', 'and', 'see', 'you', 'dont', 'want', 'to', 'just', 'randomly', 'pick', 'things', 'that', 'are', 'low', 'emission', 'you', 'have', 'to', 'pick', 'things', 'that', 'will', 'come', 'down', 'so', 'like', 'you', 'know', 'so', 'far', 'hydrogen', 'fuel', 'cells', 'have', 'knocked', 'on', 'that', 'now', 'they', 'might', 'in', 'the', 'future', 'solar', 'wind', 'and', 'lithium', 'ion', 'weve', 'seen', 'these', 'incredible', 'cost', 'reduction', 'since', 'we', 'have', 'to'], ['duplicate', 'that', 'for', 'other', 'areas', 'things', 'like', 'offshore', 'wind', 'he', 'pumped', 'new', 'ways', 'of', 'doing', 'transmission', 'in', 'we', 'have', 'to', 'keep', 'the', 'electricity', 'grid', 'even', 'in', 'very', 'bad', 'weather', 'conditions', 'so', 'thats', 'where', 'storage', 'or', 'nuclear', 'and', 'transmission', 'will', 'have', 'to', 'be', 'scaled', 'up', 'in', 'very', 'significant', 'way', 'in', 'which', 'we', 'now', 'have', 'this', 'open', 'source', 'mall', 'to', 'look', 'at', 'that', 'and', 'so', 'the', 'divine', 'of', 'green', 'products', 'that', 'demand', 'signal', 'would', 'call', 'catalyst', 'were', 'going', 'to', 'have', 'to', 'orchestrate', 'lot', 'of', 'money', 'many', 'tens', 'of', 'billions', 'of', 'dollars', 'for', 'that', 'that', 'was', 'one', 'of', 'the', 'most', 'expensive', 'pieces', 'so', 'that', 'the', 'improvements', 'in', 'these', 'other', 'areas', 'and', 'some', 'of', 'them', 'we', 'havent', 'even', 'gotten', 'started', 'on', 'what', 'he', 'did', 'mostly', 'question', 'of', 'consuming', 'less', 'in', 'particular', 'consuming', 'less'], ['energy', 'and', 'in', 'the', 'book', 'you', 'actually', 'write', 'several', 'times', 'that', 'we', 'need', 'to', 'consume', 'more', 'energy', 'by', 'living', 'conditions', 'that', 'we', 'take', 'for', 'granted', 'should', 'be', 'made', 'available', 'to', 'all', 'humans', 'and', 'the', 'human', 'population', 'is', 'growing', 'and', 'so', 'youre', 'going', 'as', 'you', 'provide', 'shelter', 'heating', 'and', 'air', 'conditioning', 'which', 'anywhere', 'near', 'the', 'equator', 'will', 'be', 'more', 'in', 'demand', 'since', 'you', 'have', 'many', 'days', 'where', 'you', 'cant', 'go', 'outdoors', 'at', 'all', 'so', 'were', 'not', 'going', 'to', 'stop', 'making', 'shelter', 'were', 'not', 'going', 'to', 'stop', 'making', 'food', 'and', 'so', 'we', 'need', 'to', 'be', 'able', 'to', 'multiply', 'those', 'processes', 'by', 'zero', 'that', 'is', 'you', 'make', 'shelter', 'but', 'theres', 'no', 'emissions', 'emissions', 'thats', 'how', 'you', 'get', 'all', 'the', 'way', 'down', 'now', 'its', 'me', 'its', 'so', 'much', 'easier', 'if', 'rich', 'countries', 'are', 'consuming', 'less'], ['but', 'you', 'know', 'how', 'far', 'will', 'that', 'go', 'to', 'your', 'book', 'if', 'we', 'eliminate', 'the', 'transition', 'somehow', 'can', 'cost', 'enter', 'the', 'key', 'driver', 'significant', 'citizen', 'involvement', 'not', 'enough', 'on', 'on', 'those', 'other', 'valuables', 'we', 'need', 'all', 'these', 'things', 'if', 'you', 'dont', 'have', 'engagement', 'particular', 'by', 'the', 'younger', 'generation', 'making', 'this', 'top', 'priority', 'every', 'year', 'for', 'the', 'next', 'years', 'across', 'all', 'the', 'developed', 'countries', 'we', 'will', 'not', 'succeed', 'and', 'im', 'not', 'the', 'one', 'who', 'knows', 'how', 'to', 'activate', 'all', 'those', 'people', 'im', 'super', 'glad', 'that', 'the', 'people', 'are', 'smart', 'about', 'that', 'or', 'are', 'thinking', 'its', 'necessary', 'element', 'likewise', 'the'], ['he', 'said', 'do', 'have', 'experience', 'and', 'innovation', 'systems', 'thats', 'necessary', 'element', 'you', 'will', 'not', 'get', 'there', 'just', 'by', 'saying', 'please', 'stop', 'using', 'steel', 'it', 'it', 'it', 'wont', 'happen', 'and', 'and', 'so', 'the', 'innovation', 'piece', 'has', 'two', 'to', 'come', 'along', 'and', 'particularly', 'encouraging', 'consumers', 'to', 'buy', 'electric', 'cars', 'or', 'artificial', 'meat', 'or', 'electric', 'heat', 'pumps', 'theyre', 'part', 'of', 'driving', 'that', 'demand', 'when', 'call', 'the', 'catalytic', 'demand', 'that', 'long', 'do', 'it', 'because', 'some', 'of', 'these', 'big', 'projects', 'like', 'green', 'hydrogen', 'or', 'green', 'aviation', 'fuel', 'require', 'billions', 'and', 'capital', 'expense', 'but', 'the', 'demand', 'signal', 'from', 'enlighten', 'consumers', 'is', 'very', 'important', 'their', 'political', 'voice', 'is', 'very', 'important', 'theyre', 'pushing', 'the', 'companies', 'they', 'work', 'at', 'is', 'very', 'important', 'and', 'so', 'absolutely', 'agree'], ['broadcast', 'who', 'cares', 'about', 'this', 'particular', 'understand', 'how', 'hard', 'it', 'is', 'and', 'dont', 'say', 'you', 'know', 'we', 'can', 'do', 'it', 'in', 'years', 'they', 'are', 'super', 'important', 'and', 'know', 'you', 'love', 'burgers', 'and', 'you', 'tried', 'an', 'official', 'burger', 'and', 'how', 'do', 'you', 'find', 'it', 'yet', 'im', 'an', 'investor', 'in', 'all', 'these', 'impossible', 'beyond', 'various', 'people', 'and', 'have', 'to', 'say', 'the', 'progress', 'in', 'that', 'sector', 'is', 'greater', 'than', 'expected', 'five', 'years', 'ago', 'would', 'have', 'said', 'that', 'is', 'as', 'hard', 'as', 'manufacturing', 'now', 'its', 'very', 'hard', 'but', 'not', 'as', 'hard', 'as', 'manufacturing', 'there', 'is', 'no', 'you', 'know', 'impossible', 'foods', 'green', 'steel', 'and', 'the', 'quality', 'is', 'going', 'to', 'keep', 'improving', 'its', 'its', 'quite', 'good', 'today', 'you', 'know', 'theres', 'other', 'companies', 'coming', 'into', 'that', 'space', 'covering', 'different', 'types', 'of', 'food', 'and', 'as', 'the', 'volume', 'goes', 'up', 'the', 'price'], ['go', 'down', 'and', 'so', 'yeah', 'think', 'its', 'quite', 'promising', 'have', 'to', 'admit', 'dont', 'hundred', 'percent', 'of', 'my', 'burgers', 'arent', 'artificially', 'at', 'its', 'about', 'but', 'ill', 'get', 'there', 'its', 'star', 'you', 'already', 'on', 'on', 'that', 'on', 'the', 'front', 'so', 'you', 'mention', 'yours', 'proceeding', 'you', 'know', 'how', 'to', 'say', 'exquisite', 'modesty', 'in', 'the', 'book', 'where', 'you', 'say', 'you', 'think', 'like', 'an', 'engineer', 'as', 'well', 'they', 'are', 'mostly', 'responding', 'to', 'voters', 'interest', 'most', 'of', 'the', 'countries', 'were', 'talking', 'about', 'our', 'our', 'democracies', 'and', 'the'], ['there', 'are', 'resources', 'that', 'will', 'need', 'to', 'be', 'put', 'in', 'like', 'tax', 'credits', 'that', 'includes', 'buying', 'green', 'products', 'or', 'in', 'government', 'purchasing', 'up', 'green', 'products', 'at', 'slightly', 'higher', 'prices', 'you', 'know', 'those', 'are', 'real', 'trade', 'offs', 'and', 'you', 'know', 'making', 'sure', 'that', 'the', 'areas', 'where', 'theres', 'lots', 'of', 'jobs', 'in', 'say', 'coal', 'mining', 'or', 'in', 'things', 'for', 'the', 'demand', 'will', 'go', 'down', 'having', 'that', 'political', 'sensitivity', 'and', 'thinking', 'through', 'can', 'we', 'put', 'the', 'new', 'jobs', 'in', 'that', 'area', 'and', 'what', 'are', 'the', 'departments', 'handle', 'that', 'this', 'is', 'is', 'tough', 'political', 'problem', 'and', 'you', 'know', 'my', 'admonition', 'of', 'people', 'is', 'not', 'only', 'to', 'get', 'educated', 'themselves', 'but', 'help', 'educate', 'other', 'people', 'and', 'often', 'you', 'know', 'like', 'in', 'the', 'us', 'if', 'its', 'people', 'are', 'both', 'parties', 'thats', 'even', 'better', 'be'], ['the', 'level', 'of', 'interest', 'is', 'high', 'but', 'it', 'needs', 'to', 'get', 'even', 'higher', 'almost', 'like', 'moral', 'mission', 'of', 'all', 'young', 'people', 'to', 'go', 'beyond', 'their', 'individual', 'success', 'that', 'they', 'they', 'believed', 'that', 'getting', 'to', 'serial', 'by', 'is', 'is', 'critical', 'thank', 'you', 'now', 'before', 'we', 'continue', 'the', 'interview', 'would', 'like', 'to', 'take', 'short', 'detour', 'for', 'minute', 'because', 'my', 'colleagues', 'that', 'had', 'death', 'produced', 'series', 'of', 'seven', 'animated', 'videos', 'inspired', 'by', 'your', 'book', 'they', 'introduced', 'the', 'concept', 'of', 'netzero', 'discuss', 'other', 'questions', 'and', 'challenges', 'would', 'like', 'to', 'share', 'one', 'shorty', 'from', 'one', 'of', 'those', 'animations'], ['you', 'flip', 'switch', 'coal', 'burns', 'in', 'furnace', 'which', 'turns', 'water', 'into', 'steam', 'that', 'steam', 'spins', 'turbine', 'which', 'activates', 'generator', 'which', 'pushes', 'electrons', 'through', 'the', 'wire', 'this', 'current', 'propagates', 'through', 'hundreds', 'of', 'miles', 'of', 'electric', 'cables', 'and', 'arrives', 'at', 'your', 'home'], ['all', 'around', 'the', 'world', 'countless', 'people', 'are', 'doing', 'this', 'every', 'second', 'flipping', 'switch', 'plugging', 'in', 'pressing', 'an', 'on', 'button', 'so', 'how', 'much', 'electricity', 'does', 'humanity', 'need'], ['the', 'answer', 'to', 'dads', 'and', 'too', 'many', 'other', 'climate', 'questions', 'of', 'course', 'hes', 'in', 'the', 'seven', 'animations', 'available', 'on', 'the', 'site', 'and', 'data', 'that', 'youtube', 'channel', 'did', 'you', 'mentioned', 'before', 'how', 'does', 'the', 'younger', 'generations', 'role', 'in', 'solving', 'this', 'problem', 'inspire', 'you'], ['well', 'they'], ['make', 'sure', 'this', 'is', 'priority', 'and', 'if', 'we', 'have', 'you', 'know', 'its', 'priority', 'for', 'years', 'and', 'its', 'not', 'for', 'years', 'you', 'cant', 'ask', 'investment', 'in', 'the', 'new', 'approach', 'to', 'take', 'place', 'hes', 'got', 'to', 'be', 'pretty', 'clear', 'that', 'even', 'though', 'in', 'political', 'parties', 'may', 'disagree', 'on', 'the', 'tactics', 'of', 'the', 'same', 'way', 'they', 'agree', 'there', 'should', 'be', 'strong', 'defense', 'that', 'they', 'agree', 'this', 'by', 'is', 'shared', 'goal', 'and', 'then', 'you', 'know', 'just', 'got', 'the', 'okay', 'how', 'do', 'you', 'were', 'discovered', 'command', 'word', 'its', 'private', 'sector', 'come', 'in', 'which', 'area', 'of', 'the', 'service', 'priority', 'and', 'that', 'will', 'be', 'huge', 'milestone', 'where', 'its', 'discussion', 'about', 'how', 'to', 'get', 'there', 'first', 'asked', 'whether', 'to', 'get', 'there', 'in', 'the', 'has', 'the', 'most', 'fraught', 'and', 'terms', 'of', 'it', 'being', 'in', 'politicized', 'even', 'in', 'terms', 'of', 'used', 'to', 'say', 'huge', 'problem'], ['you', 'know', 'young', 'people', 'theyre', 'going', 'to', 'be', 'around', 'to', 'see', 'the', 'good', 'news', 'is', 'if', 'we', 'were', 'able', 'to', 'achieve', 'this', 'you', 'know', 'wont', 'and', 'ill', 'be', 'around', 'but', 'you', 'know', 'they', 'they', 'speak', 'with', 'moral', 'authority', 'and', 'they', 'have', 'in', 'particular', 'people', 'are', 'stepping', 'up', 'on', 'this', 'but', 'you', 'know', 'hope', 'thats', 'just', 'the', 'beginning', 'and', 'im', 'not', 'quite', 'this', 'year', 'think', 'is', 'so', 'important', 'all', 'this', 'recovery', 'money', 'being', 'program', 'people', 'thinking', 'about', 'the', 'governments', 'protect', 'us', 'the', 'way', 'they', 'should', 'do', 'government', 'work', 'together', 'in', 'dependent', 'because', 'this', 'up', 'its', 'okay', 'whats', 'the', 'next', 'big', 'problem', 'we', 'need', 'to', 'collaborate', 'around', 'and', 'and', 'im', 'hoping', 'that', 'climate', 'appears', 'because', 'of', 'these', 'activist'], ['maybe', 'going', 'to', 'come', 'back', 'to', 'her', 'the', 'pandemic', 'question', 'better', 'want', 'to', 'talk', 'about', 'some', 'specific', 'technology', 'breakthroughs', 'that', 'you', 'mentioned', 'in', 'the', 'book', 'but', 'you', 'also', 'just', 'mentioned', 'that', 'the', 'breakthrough', 'energy', 'best', 'thing', 'to', 'clean', 'tech', 'startup', 'and', 'advocate', 'for', 'what', 'hes', 'going', 'to', 'do', 'in', 'several', 'technologies', 'including', 'children', 'died', 'of', 'carbon', 'capture', 'edition', 'by', 'if', 'you', 'want', 'to', 'ask', 'you', 'about', 'specific', 'investment', 'but', 'would', 'like', 'to', 'ask', 'you', 'to', 'discuss', 'why', 'do', 'spirits', 'may', 'be', 'starting', 'with', 'green', 'hydrogen', 'if', 'we', 'can', 'get', 'green', 'hydrogen', 'thats', 'very', 'cheap', 'and', 'we', 'dont', 'know', 'that', 'we', 'can'], ['that', 'becomes', 'magic', 'ingredients', 'to', 'lot', 'of', 'processes', 'that', 'let', 'you', 'make', 'fertilizer', 'without', 'using', 'natural', 'gas', 'it', 'let', 'you', 'reduce', 'iron', 'or', 'steel', 'production', 'without', 'using', 'any', 'form', 'of', 'coal', 'and', 'so', 'theres', 'two', 'ways', 'to', 'make', 'you', 'can', 'take', 'water', 'and', 'split', 'into', 'hydrogen', 'and', 'oxygen', 'intake', 'natural', 'gas', 'and', 'pull', 'out', 'the', 'hydrogen', 'and', 'so', 'its', 'kind', 'of', 'holy', 'grail', 'and', 'until', 'we', 'need', 'to', 'get', 'going', 'we', 'need', 'to', 'get', 'the', 'all', 'the', 'components', 'to', 'be', 'very', 'very', 'cheap', 'and', 'only', 'by', 'actually', 'doing', 'projects', 'significant', 'scale', 'projects', 'do', 'you', 'get', 'on', 'to', 'that', 'learning', 'curve', 'and', 'so', 'catalyst', 'will', 'fund', 'you', 'know', 'the', 'early', 'pilot', 'projects', 'along', 'with', 'governments', 'to', 'go'], ['and', 'ill', 'go', 'make', 'green', 'hydrogen', 'get', 'the', 'electrolyzers', 'to', 'get', 'up', 'in', 'volume', 'and', 'get', 'lot', 'cheaper', 'because', 'that', 'would', 'that', 'would', 'be', 'huge', 'advance', 'lot', 'of', 'manufacturing', 'not', 'all', 'of', 'it', 'but', 'lot', 'of', 'it', 'would', 'be', 'solved', 'with', 'that', 'so', 'just', 'for', 'those', 'was', 'done', 'no', 'green', 'hydrogen', 'hes', 'produced', 'clean', 'energy', 'source', 'is', 'wayne', 'store', 'and', 'buy', 'theirs', 'and', 'produced', 'from', 'natural', 'gas', 'to', 'propane', 'gas', 'is', 'called', 'gray', 'hydrogen', 'burning', 'carbon', 'from', 'the', 'atmosphere', 'and', 'the', 'least', 'in', 'theory', 'we', 'can', 'find', 'way', 'to', 'do', 'that', 'at', 'large', 'scale', 'together', 'before', 'then', 'or', 'just', 'the', 'problem', 'could', 'be', 'solved', 'but', 'its', 'very', 'early', 'stage', 'unproven', 'technology', 'you', 'describe', 'yourself', 'in', 'the', 'book', 'as', 'thought', 'experiment', 'at', 'this', 'stage', 'but', 'youre', 'one', 'of', 'the', 'main', 'investors', 'in', 'the', 'sector', 'in', 'the', 'world', 'so', 'whats', 'the', 'real', 'potential', 'for', 'direct'], ['yes', 'sir', 'there', 'is', 'company', 'today', 'climb', 'works', 'that', 'for', 'bit', 'over', 'ton', 'will', 'do', 'capture', 'now', 'its', 'fairly', 'small', 'scale', 'customer', 'of', 'theirs', 'has', 'part', 'of', 'my', 'program', 'where', 'live', 'and', 'all', 'my', 'carbon', 'emissions', 'in', 'gold', 'standard', 'whey', 'other', 'other', 'people', 'are', 'trying', 'to', 'do', 'larger', 'scale', 'plants', 'like', 'carbon', 'engineering', 'in', 'breakthrough', 'energies', 'investing', 'in', 'number', 'of', 'these', 'carbon', 'capture', 'entities', 'in', 'way', 'that', 'carbon', 'capture', 'is', 'for', 'the', 'part', 'that', 'you', 'cant', 'solve', 'any', 'other', 'way', 'its', 'kind', 'of', 'the', 'brute', 'force', 'peace', 'and', 'no', 'one', 'knows', 'what', 'that', 'price', 'will', 'be', 'in', 'if', 'its', 'tonne', 'then', 'you', 'know', 'the', 'cost', 'against', 'current', 'emissions', 'would', 'be', 'trillion', 'year', 'can', 'we', 'get', 'below', 'tonne', 'its', 'not', 'not', 'clear', 'that', 'we', 'can'], ['but', 'it', 'would', 'be', 'fantastic', 'to', 'take', 'the', 'final', 'ten', 'of', 'the', 'missions', 'and', 'instead', 'of', 'making', 'the', 'change', 'at', 'the', 'place', 'where', 'the', 'admission', 'takes', 'place', 'just', 'do', 'this', 'structure', 'capture', 'to', 'be', 'clear', 'that', 'youre', 'just', 'filter', 'in', 'the', 'air', 'and', 'youre', 'pulling', 'out', 'the', 'million', 'parts', 'per', 'million', 'and', 'putting', 'that', 'into', 'pressurized', 'form', 'of', 'co', 'that', 'then', 'you', 'sequester', 'in', 'some', 'place', 'that', 'you', 'know', 'itll', 'stay', 'for', 'millions', 'of', 'years', 'and', 'so', 'its', 'this', 'industry', 'is', 'just', 'at', 'the', 'very', 'very', 'beginning', 'but', 'its', 'necessary', 'piece', 'for', 'the', 'tale', 'of', 'of', 'emissions', 'third', 'priority', 'is', 'efficient', 'if', 'he', 'was', 'flying', 'over', 'the', 'last', 'several', 'years', 'to', 'become', 'symbol', 'of', 'polluting', 'lifestyle'], ['the', 'great', 'thing', 'about', 'pastor', 'cars', 'is', 'that', 'in', 'batteries', 'dont', 'store'], ['energy', 'as', 'well', 'as', 'gasoline', 'does', 'romantic', 'difference', 'the', 'you', 'can', 'afford', 'to', 'have', 'the', 'exercise', 'and', 'weight', 'of', 'those', 'batteries', 'on', 'plane', 'that', 'is', 'large', 'plane', 'going', 'long', 'distance', 'theres', 'no', 'chance', 'that', 'batteries', 'will', 'ever', 'have', 'that', 'energy', 'density', 'mean', 'theres', 'some', 'crazy', 'people', 'who', 'are', 'working', 'out', 'and', 'ill', 'be', 'glad', 'to', 'find', 'that', 'but', 'you', 'wouldnt', 'want', 'to', 'count', 'on', 'that', 'and', 'so', 'you', 'either', 'have', 'to', 'use', 'hydrogen', 'as', 'plane', 'pill', 'that', 'has', 'challenges', 'or', 'you', 'just', 'want', 'to', 'make', 'todays', 'aviation', 'fuel', 'with', 'green', 'prophecies', 'like', 'using', 'plants', 'as', 'the', 'source', 'of', 'how', 'you', 'make', 'those', 'and', 'so', 'im', 'the', 'biggest', 'individual', 'customer', 'group', 'that', 'makes', 'green', 'aviation', 'fuel', 'so', 'thats', 'what', 'im', 'using', 'now', 'cost'], ['as', 'the', 'normal', 'aviation', 'fuel', 'but', 'as', 'the', 'demand', 'scales', 'up', 'you', 'know', 'thats', 'one', 'of', 'those', 'green', 'premiums', 'that', 'we', 'hope', 'to', 'bring', 'down', 'so', 'that', 'you', 'know', 'some', 'point', 'lots', 'of', 'consumers', 'will', 'say', 'yes', 'ill', 'pay', 'little', 'extra', 'on', 'my', 'plane', 'ticket', 'probably', 'through', 'catalyst', 'or', 'through', 'the', 'airline', 'to', 'make', 'sure', 'that', 'that', 'were', 'building', 'up', 'that', 'industry', 'and', 'trying', 'to', 'get', 'the', 'the', 'cost', 'the', 'great', 'that', 'cream', 'premium', 'down', 'quite', 'bit', 'so', 'this', 'is', 'super', 'important', 'area', 'that', 'you', 'know', 'was', 'amazed', 'when', 'went', 'to', 'buy', 'that', 'you', 'know', 'was', 'by', 'far', 'the', 'biggest', 'individual', 'customer', 'its', 'all', 'sorts', 'of', 'course', 'im', 'very', 'symbolic', 'have', 'your', 'eyes', 'people', 'think', 'of', 'cars', 'and', 'think', 'of', 'airplanes', 'when', 'they', 'think', 'of', 'solution', 'and', 'and', 'and', 'and', 'the', 'mission'], ['its', 'your', 'case', 'for', 'neuter', 'be', 'appreciated', 'is', 'the', 'energy', 'has', 'to', 'come', 'from', 'somewhere', 'and', 'so', 'is', 'you', 'stop', 'using', 'that', 'for', 'gas', 'to', 'heat', 'homes', 'and', 'gasoline', 'to', 'power', 'cars', 'the', 'electric', 'grid', 'will', 'have', 'to', 'grow', 'dramatically', 'and', 'even', 'in', 'the', 'case', 'of', 'the', 'us', 'where', 'electricity', 'demand', 'has', 'been', 'plowed', 'the', 'last', 'two', 'decades', 'will', 'mean', 'to', 'be', 'almost', 'three', 'times', 'as', 'large', 'as', 'you', 'do', 'that', 'with', 'weather', 'dependent', 'sources', 'the', 'reliability', 'of', 'the', 'electricity', 'generation', 'goes', 'away', 'that', 'is', 'you', 'get', 'big', 'cold', 'front', 'step', 'for', 'days', 'can', 'stop', 'most', 'of', 'the', 'wind', 'and', 'solar', 'saying', 'in', 'the', 'in', 'the', 'midwest', 'so', 'the', 'question', 'is'], ['how', 'do', 'you', 'use', 'massive', 'amounts', 'of', 'transmission', 'and', 'storage', 'and', 'non', 'weather', 'dependent', 'sources', 'which', 'its', 'scale', 'nucleares', 'is', 'the', 'only', 'choice', 'there', 'to', 'maintain', 'that', 'reliability', 'and', 'not', 'have', 'people', 'say', 'freeze', 'to', 'death', 'and', 'nuclear', 'people', 'be', 'pretty', 'impressed', 'with', 'how', 'valuable', 'it', 'is', 'to', 'create', 'that', 'reliability', 'now', 'at', 'least', 'in', 'the', 'us', 'will', 'be', 'wind', 'and', 'solar', 'so', 'we', 'have', 'to', 'build', 'that', 'faster', 'than', 'ever', 'but', 'you', 'know', 'what', 'is', 'that', 'piece', 'thats', 'always', 'available', 'is', 'is', 'where', 'nuclear', 'would', 'fit', 'in'], ['are', 'you', 'talk', 'lot', 'about', 'scaling', 'up', 'the', 'college', 'in', 'the', 'book', 'want', 'to', 'ask', 'you', 'question', 'about', 'scaling', 'down', 'cuz', 'one', 'thing', 'thats', 'absent', 'from', 'your', 'book', 'is', 'discussion', 'about', 'scaling', 'down', 'for', 'the', 'fuel', 'production', 'may', 'be', 'starting', 'with', 'at', 'least', 'not', 'expanding', 'it', 'anymore', 'with', 'adopting', 'sort', 'of', 'fossil', 'fuel', 'non', 'proliferation', 'approach', 'because', 'right', 'now', 'were', 'building', 'our', 'future', 'infrastructure', 'what', 'whats', 'your', 'view', 'on', 'that', 'demand', 'for', 'fossil', 'fuels', 'and', 'the', 'fact', 'that', 'the', 'green', 'premium', 'is', 'very', 'high', 'if', 'you', 'want', 'to', 'restrict', 'supply'], ['daniel', 'gil', 'drive', 'the', 'price', 'up', 'you', 'know', 'people', 'still', 'want', 'to', 'drive', 'to', 'their', 'job', 'if', 'you', 'know', 'say', 'you', 'made', 'fossil', 'fuels', 'illegal', 'you', 'know', 'try', 'that', 'for', 'few', 'weeks', 'might', 'be', 'with', 'you', 'have', 'to', 'create', 'substitute', 'because', 'the', 'services', 'provided', 'by', 'the', 'fossil', 'fuel', 'are', 'actually', 'quite', 'valuable', 'electricity', 'is', 'value', 'transportation', 'is', 'valuable', 'and', 'are', 'you', 'willing', 'to', 'drop', 'demand', 'for', 'those', 'things', 'and', 'saudi', 'the', 'capitalistic', 'economy', 'will', 'respond', 'if', 'its', 'clear', 'you', 'know', 'how', 'youre', 'going', 'to', 'do', 'your', 'tax', 'policies', 'in', 'your', 'credit', 'youre', 'going', 'to', 'drive', 'innovation', 'then', 'the', 'infrastructure', 'investments', 'in', 'those', 'things', 'will', 'go', 'down', 'we', 'see', 'that', 'with', 'cold', 'already', 'today', 'but', 'it', 'it', 'just', 'speaking', 'against', 'something', 'when', 'you', 'have', 'create', 'an', 'altar'], ['isnt', 'going', 'to', 'get', 'you', 'and', 'read', 'the', 'letter', 'on', 'dates', 'with', 'the', 'climate', 'challenge', 'actually', 'apply', 'to', 'planet', 'to', 'avoid', 'disastrous', 'future', 'outcomes', 'in', 'individual', 'citizens', 'arent', 'equipped', 'to', 'either', 'do', 'those', 'evaluations', 'or', 'you', 'know', 'think', 'through', 'the', 'orandi', 'and', 'deployment', 'plan', 'thats', 'necessary', 'here', 'and', 'so', 'we', 'have', 'to', 'make', 'it', 'imperative', 'that', 'governments', 'hopefully', 'if', 'any'], ['party', 'going', 'into', 'this', 'the', 'pandemic', 'we', 'did', 'eventually', 'get', 'global', 'cooperation', 'the', 'us', 'didnt', 'play', 'its', 'normal', 'role', 'there', 'but', 'the', 'private', 'sector', 'innovation', 'created', 'the', 'vaccine', 'now', 'sadly', 'would', 'claim', 'that', 'the', 'pain', 'is', 'causing', 'gets', 'worse', 'over', 'time', 'so', 'it', 'would', 'depend', 'emich', 'we', 'had', 'all', 'these', 'deaths', 'and', 'people', 'were', 'like', 'wow', 'okay', 'we', 'should', 'do', 'something', 'with', 'climate', 'you', 'cant', 'wait', 'you', 'know', 'the', 'coral', 'reefs', 'will', 'have', 'died', 'off', 'the', 'species', 'will', 'be', 'gone', 'and', 'so', 'if', 'you', 'say', 'okay', 'will', 'let', 'you', 'know', 'when', 'it', 'gets', 'bad', 'will', 'invent', 'something', 'like', 'vaccine', 'that', 'doesnt', 'work', 'because', 'to', 'stop', 'the', 'emissions', 'you', 'have', 'to', 'change', 'every', 'steel', 'plant', 'cement', 'plant', 'you', 'know', 'car', 'things', 'that', 'have', 'massive', 'lead', 'times', 'and', 'literally', 'trillions', 'of', 'dollars', 'of', 'investment', 'and', 'so', 'you', 'know', 'what', 'the', 'pandemic', 'we', 'messed', 'up', 'we', 'didnt', 'pay', 'attention'], ['people', 'like', 'myself', 'said', 'it', 'was', 'her', 'problem', 'but', 'you', 'know', 'now', 'were', 'getting', 'our', 'way', 'out', 'of', 'it', 'to', 'innovation', 'climates', 'harder', 'much', 'are', 'the', 'problem', 'so', 'the', 'political', 'will', 'to', 'get', 'it', 'right', 'needs', 'to', 'be', 'unprecedented', 'compared', 'to', 'the', 'pandemic', 'girl', 'almost', 'any', 'other', 'political', 'cause', 'want', 'to', 'correct', 'you', 'on', 'the', 'point', 'about', 'planet', 'renovation', 'because', 'of', 'course', 'lot', 'of', 'public', 'money', 'went', 'into', 'funding', 'research', 'and', 'and', 'got', 'it', 'purchases', 'and', 'so', 'forth', 'that', 'ive', 'seen', 'but', 'thats', 'separate', 'interview', 'with', 'no', 'government', 'money', 'big', 'challenge', 'is', 'over', 'half', 'of', 'the', 'total', 'of', 'greenhouse', 'gas', 'emissions', 'since', 'or', 'its', 'got', 'up', 'in', 'the', 'atmosphere', 'in', 'the', 'last', 'years', 'ive', 'known', 'for', 'more', 'than', 'years', 'that', 'they', 'have', 'an', 'opening'], ['to', 'say', 'the', 'least', 'and', 'policies', 'in', 'collaborations', 'in', 'weve', 'wasted', 'lot', 'of', 'time', 'that', 'we', 'should', 'have', 'used', 'to', 'work', 'on', 'the', 'hard', 'parts', 'of', 'climates', 'just', 'having', 'short', 'term', 'goals', 'and', 'not', 'focusing', 'on', 'the', 'peace', 'in', 'the', 'last', 'years', 'we', 'dont', 'have', 'much', 'to', 'show', 'for', 'the', 'card', 'categories', 'now', 'you', 'know', 'theres', 'still', 'time', 'to', 'get', 'there', 'we', 'will', 'have', 'to', 'find', 'out', 'piece', 'of', 'great', 'deal', 'because', 'the', 'is', 'not', 'because', 'thats', 'goal', 'that', 'gives', 'you', 'damage', 'its', 'simply', 'the', 'school', 'that', 'is', 'the', 'most', 'ambitious', 'that', 'has', 'chance', 'of', 'being', 'achieved'], ['and', 'we', 'are', 'causing', 'problems', 'for', 'subsistence', 'farmers', 'and', 'sea', 'level', 'rise', 'and', 'wildfires', 'and', 'natural', 'ecosystems', 'and', 'so', 'the', 'adaptation', 'side', 'is', 'even', 'more', 'underfunded', 'in', 'the', 'mitigation', 'side', 'for', 'example', 'you', 'know', 'helping', 'poor', 'farmers', 'with', 'seeds', 'that', 'can', 'deal', 'with', 'the', 'the', 'droughts', 'and', 'high', 'temperatures', 'is', 'funded', 'it', 'less', 'than', 'billion', 'year', 'which', 'is', 'is', 'deeply', 'tragic'], ['when', 'youre', 'heading', 'towards', 'the', 'end', 'mentioned', 'the', 'beginning', 'of', 'the', 'book', 'you', 'describe', 'yourself', 'as', 'an', 'imperfect', 'messenger', 'on', 'climate', 'what', 'changes', 'made', 'in', 'your', 'personal', 'and', 'family', 'life', 'would', 'use', 'your', 'footprint', 'driving', 'an', 'electric', 'car', 'in', 'putting', 'solar', 'panels', 'on', 'the', 'houses', 'and', 'where', 'that', 'makes', 'sense', 'in', 'using', 'this', 'green', 'aviation', 'fuel', 'you', 'know', 'still', 'cant', 'say', 'that', 'you', 'know', 'ive', 'stopped', 'eating', 'meat', 'or', 'that', 'never', 'fly', 'and', 'so', 'its', 'mostly', 'by', 'funding', 'over', 'million', 'year', 'the', 'products', 'that', 'although', 'their', 'green', 'premiums', 'are', 'very', 'high', 'today', 'like', 'the', 'carbon', 'capture', 'like', 'the', 'aviation', 'fuel', 'if', 'he', 'knows', 'you', 'actually', 'going', 'to', 'get', 'those', 'on', 'to', 'the', 'learning', 'curve', 'to', 'get', 'those', 'prices', 'down', 'very', 'dramatic'], ['what', 'area', 'did', 'do', 'is', 'hide', 'fund', 'putting', 'in', 'electric', 'heat', 'pumps', 'in', 'the', 'low', 'cost', 'housing', 'and', 'so', 'instead', 'of', 'using', 'that', 'they', 'get', 'lower', 'bill', 'because', 'its', 'the', 'city', 'and', 'paid', 'that', 'extra', 'capital', 'cost', 'as', 'as', 'an', 'offset', 'so', 'you', 'know', 'accelerating', 'those', 'demands', 'things', 'you', 'know', 'tried', 'to', 'get', 'out', 'in', 'front', 'of', 'that', 'you', 'also', 'talking', 'to', 'book', 'about', 'the', 'pay', 'more', 'than', 'market', 'value', 'or', 'the', 'current', 'market', 'price', 'for', 'upsets', 'and', 'you', 'hinted', 'to', 'him', 'before', 'talking', 'about', 'the', 'golden', 'standard', 'tell', 'us', 'about', 'what', 'kind', 'of', 'process', 'can', 'be', 'kind', 'of', 'confusing', 'and', 'controversial', 'what', 'kind', 'of', 'sets'], ['well', 'first', 'of', 'all', 'its', 'great', 'that', 'were', 'finally', 'talking', 'about', 'offsets', 'and', 'any', 'company', 'that', 'actually', 'looks', 'at', 'their', 'emissions', 'and', 'pays', 'for', 'offsets', 'is', 'way', 'better', 'than', 'company', 'that', 'either', 'doesnt', 'look', 'at', 'their', 'missions', 'or', 'looks', 'at', 'them', 'and', 'doesnt', 'pay', 'for', 'offsets', 'and', 'so', 'the', 'leading', 'companies', 'are', 'now', 'buying', 'offsets', 'some', 'of', 'them', 'spending', 'hundreds', 'of', 'millions', 'to', 'buy', 'offsets', 'that', 'is', 'very', 'very', 'good', 'thing', 'the', 'ability', 'to', 'see', 'which', 'offsets', 'actually', 'have', 'long', 'term', 'benefit', 'that', 'really', 'keep', 'the', 'carbon', 'out', 'for', 'the', 'over', 'thousands', 'of', 'years', 'to', 'count', 'their', 'now', 'organizations', 'that', 'and', 'others', 'are', 'funny', 'to', 'label', 'offsets', 'this', 'either', 'gold', 'standard'], ['different', 'levels', 'of', 'the', 'impact', 'and', 'youre', 'the', 'price', 'of', 'offsets', 'range', 'from', 'tonne', 'to', 'tonne', 'some', 'of', 'the', 'low', 'cost', 'ones', 'may', 'be', 'really', 'lived', 'in', 'like', 'reducing', 'natural', 'gas', 'leakage', 'is', 'is', 'pretty', 'dramatic', 'in', 'some', 'cases', 'in', 'terms', 'of', 'the', 'dollars', 'per', 'tons', 'of', 'waited', 'there', 'lot', 'of', 'the', 'forest', 'three', 'things', 'will', 'probably', 'not', 'end', 'up', 'looking', 'that', 'good', 'as', 'you', 'really', 'look', 'at', 'the', 'lifetime', 'of', 'the', 'tree', 'or', 'what', 'would', 'have', 'happened', 'otherwise', 'do', 'you', 'know', 'at', 'least', 'were', 'talking', 'about', 'offsets', 'now', 'and', 'now', 'were', 'going', 'to', 'do', 'it', 'in', 'thoughtful', 'way', 'to', 'the', 'interview', 'may', 'already', 'be', 'very', 'well', 'this', 'time', 'you', 'be', 'looking', 'for', 'ways', 'to', 'to', 'step', 'up', 'and', 'at', 'the', 'end', 'of', 'the', 'book', 'giver', 'chapter', 'about', 'individual', 'action', 'give', 'us', 'maybe'], ['say', 'two', 'examples', 'two', 'practical', 'examples', 'of', 'things', 'that', 'individual', 'citizens', 'in', 'the', 'us', 'but', 'also', 'as', 'were', 'can', 'do', 'to', 'play', 'meaningful', 'role', 'in', 'tackling', 'climate', 'change'], ['everybody', 'should', 'start', 'by', 'learning', 'more', 'you', 'know', 'you', 'know', 'how', 'much', 'steel', 'do', 'we', 'make', 'can', 'where', 'are', 'the', 'soap', 'steel', 'plants', 'and', 'although', 'sadly', 'its', 'source', 'of', 'so', 'many', 'missions', 'once', 'you', 'really', 'educate', 'yourself', 'then', 'youre', 'in', 'position', 'to', 'educate', 'others', 'hopefully', 'of', 'diverse', 'political', 'beliefs', 'about', 'why', 'this', 'is', 'so', 'important', 'and', 'yet', 'you', 'know', 'its', 'also', 'very', 'very', 'hard', 'to', 'do', 'you', 'have', 'all', 'your', 'buying', 'behavior', 'electric', 'cars', 'out', 'of', 'his', 'shell', 'mean', 'you', 'know', 'and', 'youll', 'see', 'for', 'all', 'the', 'different', 'products', 'berries', 'things', 'that', 'indicate', 'how', 'green', 'that', 'product', 'is', 'and', 'your', 'demand', 'doesnt', 'just', 'save', 'those', 'emissions', 'it', 'also', 'encourages', 'the', 'improvement', 'of', 'of', 'the', 'green', 'product', 'in', 'political', 'voice', 'id', 'still', 'put', 'it', 'in', 'one'], ['in', 'making', 'sure', 'your', 'company', 'is', 'measuring', 'its', 'its', 'emissions', 'and', 'is', 'starting', 'to', 'fund', 'offsets', 'on', 'his', 'willing', 'to', 'be', 'customer', 'for', 'you', 'no', 'breakthrough', 'storage', 'solutions', 'or', 'in', 'the', 'green', 'aviation', 'fuel', 'that', 'is', 'catalytic', 'and', 'love', 'those', 'funds', 'hopefully', 'well', 'go', 'through', 'this', 'vehicle', 'thats', 'really', 'identify', 'which', 'projects', 'globally', 'are', 'technologies', 'that', 'that', 'wont', 'stay', 'expensive', 'fiction', 'do', 'like', 'what', 'solar', 'and', 'wind', 'it', 'in', 'and', 'come', 'down', 'and', 'in', 'price', 'so', 'individuals', 'are', 'what', 'drive', 'this', 'thing', 'me', 'and', 'the', 'democracies', 'are', 'where', 'are', 'most', 'innovation', 'power', 'is', 'and', 'they', 'have', 'to', 'get', 'activated', 'and', 'then', 'set', 'the', 'example'], ['would', 'like', 'to', 'to', 'end', 'on', 'the', 'outcome', 'maybe', 'we', 'should', 'have', 'started', 'with', 'the', 'outcome', 'but', 'lets', 'imagine', 'world', 'where', 'we', 'will', 'actually', 'have', 'done', 'all', 'of', 'what', 'you', 'described', 'in', 'the', 'book', 'and', 'everything', 'else', 'thats', 'necessary', 'what', 'would', 'the', 'future', 'everyday', 'life', 'look', 'like'], ['think', 'everybody', 'will', 'be', 'really', 'proud', 'that', 'humanity', 'came', 'together', 'on', 'global', 'basis', 'to', 'make', 'this', 'radical', 'change', 'and', 'theres', 'no', 'precedent', 'for', 'it', 'in', 'the', 'human', 'world', 'war', 'is', 'for', 'we', 'orchestrated', 'lots', 'of', 'resources', 'and', 'was', 'like', 'year', 'duration', 'and', 'here', 'were', 'talking', 'about', 'three', 'decades', 'of', 'hard', 'work', 'dealing', 'with', 'an', 'enemy', 'that', 'super', 'bad', 'stuff', 'is', 'out', 'in', 'the', 'future', 'and', 'so', 'youre', 'benefiting', 'young', 'people', 'and', 'in', 'future', 'generations', 'in', 'some', 'ways', 'you', 'know', 'am', 'life', 'will', 'look', 'lot', 'like', 'it', 'does', 'today', 'youll', 'still', 'have', 'buildings', 'youll', 'have', 'air', 'conditioning', 'you', 'have', 'lights', 'at', 'night', 'but', 'all', 'of', 'those', 'your', 'in', 'terms', 'of', 'what', 'the', 'emissions', 'that', 'come', 'out', 'of', 'those', 'activities', 'are', 'you', 'know', 'during', 'the', 'same', 'time', 'frame', 'will', 'have', 'dance'], ['send', 'medicine', 'of', 'curing', 'cancer', 'and', 'finishing', 'polio', 'and', 'malaria', 'and', 'all', 'sorts', 'of', 'things', 'and', 'so', 'by', 'taking', 'away', 'this', 'ones', 'super', 'negative', 'thing', 'then', 'all', 'the', 'progress', 'we', 'make', 'another', 'areas', 'in', 'wont', 'get', 'reduced', 'by', 'this', 'awful', 'thing', 'that', 'if', 'its', 'goes', 'unchecked', 'the', 'migration', 'out', 'of', 'the', 'equatorial', 'regions', 'in', 'the', 'number', 'of', 'decimate', 'the', 'pandemic', 'look', 'like', 'nothing', 'you', 'know', 'think', 'so', 'from', 'moral', 'point', 'of', 'view', 'and', 'letting', 'the', 'other', 'improvements', 'not', 'be', 'offset', 'by', 'this'], ['itll', 'be'], ['source', 'of', 'great', 'pride', 'that', 'hey', 'we', 'came', 'together', 'thats', 'something', 'we', 'actually', 'do', 'big', 'thank', 'you', 'for', 'sharing', 'your', 'knowledge', 'thank', 'you', 'for', 'this', 'very', 'very', 'important', 'for', 'the', 'book', 'and', 'thank', 'you', 'for', 'coming', 'back', 'to', 'today']]\n"
     ]
    }
   ],
   "source": [
    "def sent_to_words(sentences):\n",
    "    for sentence in sentences:\n",
    "        yield(gensim.utils.simple_preprocess(str(sentence), deacc=True))  # deacc=True removes punctuations\n",
    "\n",
    "data_words = list(sent_to_words(data))\n",
    "\n",
    "print(data_words)"
   ]
  },
  {
   "cell_type": "markdown",
   "id": "9423529c",
   "metadata": {},
   "source": [
    "### Creating Bigram and Trigram Models"
   ]
  },
  {
   "cell_type": "code",
   "execution_count": 11,
   "id": "c416e79d",
   "metadata": {},
   "outputs": [
    {
     "name": "stdout",
     "output_type": "stream",
     "text": [
      "['it', 'said', 'thats', 'lie', 'merely', 'asked', 'you', 'on', 'today', 'show', 'the', 'philanthropist', 'and', 'microsoft', 'co', 'founder', 'bill', 'gates', 'in', 'conversation', 'with', 'ted', 'global', 'curator', 'changes', 'for', 'the', 'world', 'to', 'avoid', 'climate', 'disaster', 'he', 'talks', 'or', 'something', 'called', 'the', 'green', 'premium', 'lays', 'out', 'innovations', 'we', 'need', 'to', 'invest', 'in', 'and', 'shares', 'why', 'younger', 'generations', 'are', 'the', 'key', 'to', 'getting', 'to', 'net', 'zero', 'emissions', 'and', 'also', 'have', 'his', 'love', 'for', 'burgers', 'is', 'changing', 'the', 'conversation', 'is', 'from', 'march', 'and', 'part', 'of', 'countdown', 'ted', 'global', 'initiative', 'to', 'xcelerate', 'solutions', 'to', 'the', 'climate', 'crisis', 'get', 'involved', 'at', 'countdown', 'head', 'com']\n"
     ]
    }
   ],
   "source": [
    "# Building the bigram and trigram models\n",
    "bigram = gensim.models.Phrases(data_words, min_count=5, threshold=100) # higher threshold fewer phrases.\n",
    "trigram = gensim.models.Phrases(bigram[data_words], threshold=100)  \n",
    "\n",
    "# Faster way to get a sentence clubbed as a trigram/bigram\n",
    "bigram_mod = gensim.models.phrases.Phraser(bigram)\n",
    "trigram_mod = gensim.models.phrases.Phraser(trigram)\n",
    "\n",
    "# See trigram example\n",
    "print(trigram_mod[bigram_mod[data_words[0]]])"
   ]
  },
  {
   "cell_type": "markdown",
   "id": "fa45479f",
   "metadata": {},
   "source": [
    "### Removing Stopwords and Making Bigrams and Lemmatization"
   ]
  },
  {
   "cell_type": "code",
   "execution_count": 12,
   "id": "60842a82",
   "metadata": {},
   "outputs": [],
   "source": [
    "# Defining functions for stopwords, bigrams, trigrams and lemmatization\n",
    "def remove_stopwords(texts):\n",
    "    return [[word for word in simple_preprocess(str(doc)) if word not in stop_words] for doc in texts]\n",
    "\n",
    "def make_bigrams(texts):\n",
    "    return [bigram_mod[doc] for doc in texts]\n",
    "\n",
    "def make_trigrams(texts):\n",
    "    return [trigram_mod[bigram_mod[doc]] for doc in texts]\n",
    "\n",
    "def lemmatization(texts, allowed_postags=['NOUN', 'ADJ', 'VERB', 'ADV']):\n",
    "    \"\"\"https://spacy.io/api/annotation\"\"\"\n",
    "    texts_out = []\n",
    "    for sent in texts:\n",
    "        doc = nlp(\" \".join(sent)) \n",
    "        texts_out.append([token.lemma_ for token in doc if token.pos_ in allowed_postags])\n",
    "    return texts_out"
   ]
  },
  {
   "cell_type": "code",
   "execution_count": 13,
   "id": "2e7b82ec",
   "metadata": {},
   "outputs": [
    {
     "name": "stdout",
     "output_type": "stream",
     "text": [
      "[['say', 's', 'lie', 'merely', 'ask', 'today', 'conversation', 'te', 'global', 'curator', 'change', 'world', 'avoid', 'climate', 'disaster', 'talk', 'call', 'green', 'premium', 'lay', 'innovation', 'need', 'invest', 'share', 'young', 'generation', 'key', 'get', 'net', 'emission', 'also', 'love', 'burger', 'change', 'conversation', 'part', 'countdown', 'global', 'solution', 'climate', 'crisis', 'get', 'involve', 'countdown', 'head', 'com']]\n"
     ]
    }
   ],
   "source": [
    "# Removing Stop Words\n",
    "data_words_nostops = remove_stopwords(data_words)\n",
    "\n",
    "# Forming Bigrams\n",
    "data_words_bigrams = make_bigrams(data_words_nostops)\n",
    "\n",
    "# Initializing spacy 'en' model, keeping only tagger component (for efficiency)\n",
    "# python3 -m spacy download en\n",
    "nlp = spacy.load(\"en_core_web_sm\", disable=['parser', 'ner'])\n",
    "\n",
    "# Preforming lemmatization keeping only noun, adj, vb, adv\n",
    "data_lemmatized = lemmatization(data_words_bigrams, allowed_postags=['NOUN', 'ADJ', 'VERB', 'ADV'])\n",
    "\n",
    "print(data_lemmatized[:1])"
   ]
  },
  {
   "cell_type": "markdown",
   "id": "cfebebf8",
   "metadata": {},
   "source": [
    "### Creating the Dictionary and Corpus needed for Topic Modeling"
   ]
  },
  {
   "cell_type": "code",
   "execution_count": 14,
   "id": "b6a6c669",
   "metadata": {},
   "outputs": [
    {
     "name": "stdout",
     "output_type": "stream",
     "text": [
      "[[(0, 1), (1, 1), (2, 1), (3, 1), (4, 1), (5, 2), (6, 2), (7, 1), (8, 2), (9, 2), (10, 1), (11, 1), (12, 1), (13, 1), (14, 1), (15, 2), (16, 2), (17, 1), (18, 1), (19, 1), (20, 1), (21, 1), (22, 1), (23, 1), (24, 1), (25, 1), (26, 1), (27, 1), (28, 1), (29, 1), (30, 1), (31, 1), (32, 1), (33, 1), (34, 1), (35, 1), (36, 1), (37, 1), (38, 1), (39, 1)]]\n"
     ]
    }
   ],
   "source": [
    "# Creating Dictionary\n",
    "id2word = corpora.Dictionary(data_lemmatized)\n",
    "\n",
    "# Creating Corpus\n",
    "texts = data_lemmatized\n",
    "\n",
    "# Term Document Frequency\n",
    "corpus = [id2word.doc2bow(text) for text in texts]\n",
    "\n",
    "# Viewing the Term Document Frequency\n",
    "print(corpus[:1])"
   ]
  },
  {
   "cell_type": "code",
   "execution_count": 15,
   "id": "8ef2de57",
   "metadata": {},
   "outputs": [
    {
     "data": {
      "text/plain": [
       "[[('also', 1),\n",
       "  ('ask', 1),\n",
       "  ('avoid', 1),\n",
       "  ('burger', 1),\n",
       "  ('call', 1),\n",
       "  ('change', 2),\n",
       "  ('climate', 2),\n",
       "  ('com', 1),\n",
       "  ('conversation', 2),\n",
       "  ('countdown', 2),\n",
       "  ('crisis', 1),\n",
       "  ('curator', 1),\n",
       "  ('disaster', 1),\n",
       "  ('emission', 1),\n",
       "  ('generation', 1),\n",
       "  ('get', 2),\n",
       "  ('global', 2),\n",
       "  ('green', 1),\n",
       "  ('head', 1),\n",
       "  ('innovation', 1),\n",
       "  ('invest', 1),\n",
       "  ('involve', 1),\n",
       "  ('key', 1),\n",
       "  ('lay', 1),\n",
       "  ('lie', 1),\n",
       "  ('love', 1),\n",
       "  ('merely', 1),\n",
       "  ('need', 1),\n",
       "  ('net', 1),\n",
       "  ('part', 1),\n",
       "  ('premium', 1),\n",
       "  ('s', 1),\n",
       "  ('say', 1),\n",
       "  ('share', 1),\n",
       "  ('solution', 1),\n",
       "  ('talk', 1),\n",
       "  ('te', 1),\n",
       "  ('today', 1),\n",
       "  ('world', 1),\n",
       "  ('young', 1)]]"
      ]
     },
     "execution_count": 15,
     "metadata": {},
     "output_type": "execute_result"
    }
   ],
   "source": [
    "# Human readable format of corpus (term-frequency)\n",
    "[[(id2word[id], freq) for id, freq in cp] for cp in corpus[:1]]"
   ]
  },
  {
   "cell_type": "markdown",
   "id": "50676959",
   "metadata": {},
   "source": [
    "### Building the LDA Topic Model\n",
    "\n",
    "**Latent Dirichlet Allocation (LDA)** is a generative statistical model that explains a set of observations through unobserved groups, and each group explains why some parts of the data are similar. In this, observations (e.g., words) are collected into documents, and each word's presence is attributable to one of the document's topics. Each document will contain a small number of topics.\n",
    "LDA is one of the most popular topic modeling methods."
   ]
  },
  {
   "cell_type": "code",
   "execution_count": 18,
   "id": "2a873196",
   "metadata": {},
   "outputs": [],
   "source": [
    "# Building the LDA model\n",
    "lda_model = gensim.models.ldamodel.LdaModel(corpus=corpus,\n",
    "                                           id2word=id2word,\n",
    "                                           num_topics=5, \n",
    "                                           random_state=100,\n",
    "                                           update_every=1, # Determines how often the model parameters should be updated\n",
    "                                           chunksize=10, # The number of documents to be used in each training chunk\n",
    "                                           passes=10, # Total number of training passes\n",
    "                                           alpha='auto',\n",
    "                                           per_word_topics=True)"
   ]
  },
  {
   "cell_type": "markdown",
   "id": "e93b0c34",
   "metadata": {},
   "source": [
    "### Viewing the Topics in The LDA Model"
   ]
  },
  {
   "cell_type": "code",
   "execution_count": 19,
   "id": "361243f2",
   "metadata": {},
   "outputs": [
    {
     "name": "stdout",
     "output_type": "stream",
     "text": [
      "[(0,\n",
      "  '0.043*\"know\" + 0.029*\"s\" + 0.026*\"people\" + 0.023*\"lot\" + 0.016*\"get\" + '\n",
      "  '0.014*\"use\" + 0.013*\"hard\" + 0.012*\"problem\" + 0.012*\"come\" + '\n",
      "  '0.012*\"important\"'),\n",
      " (1,\n",
      "  '0.031*\"thing\" + 0.030*\"make\" + 0.029*\"go\" + 0.024*\"offset\" + 0.023*\"look\" + '\n",
      "  '0.017*\"want\" + 0.016*\"know\" + 0.015*\"actually\" + 0.014*\"well\" + '\n",
      "  '0.013*\"see\"'),\n",
      " (2,\n",
      "  '0.027*\"year\" + 0.024*\"say\" + 0.017*\"s\" + 0.016*\"get\" + 0.015*\"part\" + '\n",
      "  '0.014*\"world\" + 0.012*\"young\" + 0.011*\"time\" + 0.011*\"innovation\" + '\n",
      "  '0.011*\"generation\"'),\n",
      " (3,\n",
      "  '0.026*\"green\" + 0.025*\"know\" + 0.021*\"get\" + 0.016*\"go\" + 0.015*\"re\" + '\n",
      "  '0.015*\"emission\" + 0.014*\"today\" + 0.013*\"really\" + 0.012*\"price\" + '\n",
      "  '0.011*\"say\"'),\n",
      " (4,\n",
      "  '0.024*\"book\" + 0.021*\"think\" + 0.019*\"climate\" + 0.018*\"change\" + '\n",
      "  '0.018*\"talk\" + 0.017*\"individual\" + 0.017*\"fund\" + 0.015*\"future\" + '\n",
      "  '0.014*\"year\" + 0.013*\"term\"')]\n"
     ]
    }
   ],
   "source": [
    "# Printing the Keyword in the 5 topics\n",
    "pprint(lda_model.print_topics())\n",
    "doc_lda = lda_model[corpus]"
   ]
  },
  {
   "cell_type": "markdown",
   "id": "10bcd608",
   "metadata": {},
   "source": [
    "### Computing Model Perplexity and Coherence Score"
   ]
  },
  {
   "cell_type": "code",
   "execution_count": 25,
   "id": "4339b57a",
   "metadata": {},
   "outputs": [
    {
     "name": "stdout",
     "output_type": "stream",
     "text": [
      "\n",
      "Perplexity Score:  -6.895566757446175\n",
      "\n",
      "Coherence Score:  nan\n"
     ]
    },
    {
     "name": "stderr",
     "output_type": "stream",
     "text": [
      "C:\\Users\\Yoni\\anaconda3\\lib\\site-packages\\gensim\\topic_coherence\\direct_confirmation_measure.py:204: RuntimeWarning: divide by zero encountered in double_scalars\n",
      "  m_lr_i = np.log(numerator / denominator)\n",
      "C:\\Users\\Yoni\\anaconda3\\lib\\site-packages\\gensim\\topic_coherence\\indirect_confirmation_measure.py:323: RuntimeWarning: invalid value encountered in double_scalars\n",
      "  return cv1.T.dot(cv2)[0, 0] / (_magnitude(cv1) * _magnitude(cv2))\n"
     ]
    }
   ],
   "source": [
    "# Computing Perplexity\n",
    "print('\\nPerplexity Score: ', lda_model.log_perplexity(corpus))  # a measure of how good the model is. lower the better.\n",
    "\n",
    "# Computing Coherence Score\n",
    "coherence_model_lda = CoherenceModel(model=lda_model, texts=data_lemmatized, dictionary=id2word, coherence='c_v')\n",
    "coherence_lda = coherence_model_lda.get_coherence()\n",
    "print('\\nCoherence Score: ', coherence_lda)"
   ]
  },
  {
   "cell_type": "markdown",
   "id": "86c70ec3",
   "metadata": {},
   "source": [
    "Since I am dealing here with a small corpus of documents, when computing the coherence score, I received that one of the top words of the topics of the trained model has a word frequency count of ‘0’ in the test corpus. For that reason, the coherence model throws this warning and returns an output of a ‘nan’ value.\n",
    "\n",
    " I will need to take this into consideration when evaluating the models in the written paper.  \n"
   ]
  },
  {
   "cell_type": "markdown",
   "id": "b32fd7ef",
   "metadata": {},
   "source": [
    "### Visualizing the Topics-Keywords"
   ]
  },
  {
   "cell_type": "code",
   "execution_count": 21,
   "id": "9cc41a71",
   "metadata": {},
   "outputs": [
    {
     "data": {
      "text/html": [
       "\n",
       "<link rel=\"stylesheet\" type=\"text/css\" href=\"https://cdn.jsdelivr.net/gh/bmabey/pyLDAvis@3.3.1/pyLDAvis/js/ldavis.v1.0.0.css\">\n",
       "\n",
       "\n",
       "<div id=\"ldavis_el142817325563335684065063340\"></div>\n",
       "<script type=\"text/javascript\">\n",
       "\n",
       "var ldavis_el142817325563335684065063340_data = {\"mdsDat\": {\"x\": [-0.09535526796761037, -0.1521496792346151, 0.16162223959572666, 0.010509526241025172, 0.07537318136547347], \"y\": [0.185871866322675, -0.11845422115013085, -0.012207442417001006, -0.08996490663921931, 0.03475470388367635], \"topics\": [1, 2, 3, 4, 5], \"cluster\": [1, 1, 1, 1, 1], \"Freq\": [29.37757021969259, 26.061634660193, 15.842479333446402, 15.671047553203632, 13.047268233464376]}, \"tinfo\": {\"Term\": [\"people\", \"say\", \"lot\", \"know\", \"year\", \"offset\", \"book\", \"green\", \"thing\", \"look\", \"make\", \"go\", \"think\", \"talk\", \"climate\", \"individual\", \"fund\", \"change\", \"want\", \"emission\", \"use\", \"actually\", \"today\", \"part\", \"re\", \"really\", \"fuel\", \"time\", \"see\", \"future\", \"today\", \"really\", \"price\", \"also\", \"buy\", \"pay\", \"premium\", \"stop\", \"solar\", \"low\", \"drive\", \"wind\", \"create\", \"kind\", \"breakthrough\", \"try\", \"capture\", \"customer\", \"technology\", \"learn\", \"tonne\", \"power\", \"case\", \"large\", \"put\", \"back\", \"green\", \"cost\", \"air\", \"plane\", \"carbon\", \"energy\", \"re\", \"emission\", \"electric\", \"hydrogen\", \"product\", \"demand\", \"get\", \"know\", \"go\", \"say\", \"time\", \"way\", \"s\", \"come\", \"thing\", \"lot\", \"use\", \"political\", \"big\", \"steel\", \"people\", \"m\", \"area\", \"great\", \"least\", \"natural_ga\", \"hard\", \"together\", \"different\", \"important\", \"electricity\", \"even\", \"problem\", \"educate\", \"money\", \"point\", \"government\", \"mean\", \"dollar\", \"pretty\", \"step\", \"improvement\", \"building\", \"coal\", \"work\", \"know\", \"s\", \"source\", \"need\", \"come\", \"way\", \"get\", \"make\", \"car\", \"mission\", \"talk\", \"fund\", \"individual\", \"example\", \"thank\", \"outcome\", \"bad\", \"life\", \"describe\", \"challenge\", \"role\", \"level\", \"change\", \"interview\", \"like\", \"storage\", \"course\", \"stay\", \"future\", \"citizen\", \"play\", \"solve\", \"benefit\", \"think\", \"death\", \"farmer\", \"instead\", \"atmosphere\", \"produce\", \"democracy\", \"climate\", \"term\", \"book\", \"high\", \"take\", \"year\", \"start\", \"get\", \"re\", \"thing\", \"want\", \"fuel\", \"see\", \"let\", \"good\", \"fossil\", \"mention\", \"reduce\", \"sort\", \"sure\", \"investment\", \"maybe\", \"hopefully\", \"pandemic\", \"already\", \"view\", \"job\", \"infrastructure\", \"battery\", \"progress\", \"scaling\", \"tax\", \"service\", \"become\", \"provide\", \"purchase\", \"several\", \"industry\", \"project\", \"count\", \"look\", \"well\", \"offset\", \"make\", \"thing\", \"actually\", \"go\", \"necessary\", \"know\", \"number\", \"part\", \"world\", \"young\", \"generation\", \"sector\", \"clear\", \"do\", \"priority\", \"set\", \"goal\", \"place\", \"activate\", \"give\", \"love\", \"measure\", \"current\", \"front\", \"last\", \"burger\", \"short\", \"humanity\", \"value\", \"huge\", \"catalytic\", \"volume\", \"agree\", \"key\", \"private\", \"share\", \"simply\", \"year\", \"say\", \"much\", \"innovation\", \"ve\", \"global\", \"time\", \"s\", \"get\", \"emission\"], \"Freq\": [19.0, 17.0, 16.0, 56.0, 17.0, 14.0, 14.0, 23.0, 24.0, 13.0, 22.0, 28.0, 11.0, 8.0, 10.0, 7.0, 7.0, 9.0, 7.0, 14.0, 10.0, 10.0, 11.0, 5.0, 15.0, 11.0, 6.0, 11.0, 6.0, 7.0, 10.529447324077024, 10.436027622067755, 9.478300422577274, 7.783469762921352, 7.521084390603328, 7.1755277025091795, 7.020155387845907, 6.654052885043115, 6.60810535242331, 5.719450545241553, 5.541297387795288, 5.492989336657462, 5.07492946291813, 5.68933572359826, 4.9302003966599, 4.614498534203622, 5.257434758768612, 4.261674579122965, 4.636383995458928, 4.055189429784872, 3.7869337731779895, 3.641310046601517, 3.442436181155859, 3.4441544626618734, 6.629738029767658, 3.407811276239591, 19.973488855532068, 7.867831074284013, 3.3855547527241194, 3.402282124018873, 6.9878870347957065, 6.618311908508565, 11.80012821742833, 11.47469110926001, 6.100027000423866, 6.294794659886525, 7.395831224840028, 7.123686446293508, 15.898131885393184, 19.55220156952016, 12.526572923185629, 8.25455511878732, 6.637100857005812, 7.561366823021771, 8.090816053336525, 5.982737789972283, 5.938706871456249, 15.538875690414462, 9.479778818380863, 8.390161946123408, 7.894787033091615, 7.996919000863765, 18.09537646566624, 7.391230941885904, 7.1994604658084125, 7.072804157644892, 6.306035757464528, 5.831985523289126, 8.878896329846757, 5.506643093870835, 5.111103890812944, 8.393011634681056, 4.555351601343726, 7.646670267859467, 8.468450965132813, 4.273963730504315, 4.1122896508686075, 4.260963865897547, 6.125485530205054, 3.9882191119699573, 3.993844591683273, 3.7654274022683563, 3.7649238762479547, 3.9806761386313005, 3.1238802291031504, 3.1596945569862656, 7.587266353734673, 29.602784829529988, 19.585947844967198, 6.5593304592698765, 7.062199400607848, 8.44703927288535, 7.68140140698459, 11.073217940452018, 5.773802995661088, 4.453597118135789, 4.336102808208799, 7.485048724906895, 7.162947503038308, 7.253454827962465, 5.336159962436084, 5.198184810635799, 3.9238369307878265, 4.123609166359863, 3.907298565536011, 3.203708444059938, 3.2542581326639626, 3.032039139306119, 3.0228336136577587, 7.614265228787915, 3.014838819402501, 2.792686916043151, 2.9038285964749733, 2.620629850544416, 2.553481123994286, 6.095969169084526, 2.8106765643638267, 2.475624055829542, 2.3676974448037855, 2.452434252002449, 8.938216536565509, 2.2885195787556567, 2.0457465434245763, 2.0874500754156498, 2.086636439028123, 2.0814864551727528, 2.0650517391070156, 7.9028681227130635, 5.4036093299649695, 9.989499311219564, 4.813291628380119, 4.134802889528794, 5.812475227160597, 3.8523606076392216, 3.9116841123360833, 2.9163442843098726, 2.8781074578351564, 7.022953366202036, 5.565979670536393, 5.571835862166169, 5.208632718250213, 4.954282334544499, 4.245281116054504, 3.8594603459452412, 3.5867234748942227, 3.525657038329102, 3.613038634772575, 3.5753461818271255, 3.5675386957586284, 3.729500750799749, 3.918399286799374, 2.9591955318022216, 2.4475533957726463, 2.4842319219646942, 2.3843181062110164, 2.214150381003592, 2.0277269342727986, 1.986844776636608, 1.9696595741660878, 1.9591405890431524, 1.8993695011324434, 1.8437747296214866, 1.9441794467363251, 1.8945299292886146, 1.883485418100361, 4.087617910393958, 1.7558304817354604, 9.517204715752465, 5.64419803138415, 10.001705892709541, 12.188328287391943, 12.695290125216813, 6.2190754569753555, 11.880752423736958, 2.5842126788130755, 6.43359435045658, 2.298436721254885, 5.032422320355582, 4.798366050713725, 4.0517185845450605, 3.7172463722423723, 3.4757180033648165, 3.2262120923248663, 3.144002665124271, 3.034267418311232, 3.0624694039681963, 2.7566930892318284, 2.9219578718772516, 2.6417690447692386, 3.245166202075918, 2.5336732844075853, 2.4968534648198726, 2.4670864638651704, 2.4481941731792976, 3.3609158353493798, 2.1666821618316288, 2.1459139988389198, 2.201357532500317, 2.488173811823945, 2.040914797091855, 2.053764354233014, 1.7788208587901164, 1.711836057996486, 1.6232535015738094, 1.684534772916116, 1.5769034563083963, 1.4836835090792013, 9.17056235649036, 8.402568414778829, 3.3198138443503984, 3.883994812452086, 2.9611713384809275, 2.3384270559155573, 3.9388337684682764, 5.760791202205641, 5.5815095070664995, 2.962791126111026], \"Total\": [19.0, 17.0, 16.0, 56.0, 17.0, 14.0, 14.0, 23.0, 24.0, 13.0, 22.0, 28.0, 11.0, 8.0, 10.0, 7.0, 7.0, 9.0, 7.0, 14.0, 10.0, 10.0, 11.0, 5.0, 15.0, 11.0, 6.0, 11.0, 6.0, 7.0, 11.150816168513737, 11.087479122411233, 10.092791158995102, 8.409815315947043, 8.13645542181651, 7.7880340469968, 7.6475068854371, 7.263061844088332, 7.222206443674772, 6.332717933940368, 6.168295377124594, 6.118907932538581, 5.698008369838457, 6.391509595989891, 5.560044552455365, 5.232872700376908, 5.9706416309116745, 4.875242531933247, 5.321858345872232, 4.674059984924364, 4.395935341202019, 4.259009085982241, 4.052253518321288, 4.060478597580951, 7.837525054369826, 4.031965433790114, 23.654698846518887, 9.335643340981495, 4.029044619475003, 4.054545198704911, 8.465348483051306, 8.048307316367968, 15.207219319459295, 14.907654840057155, 7.5860508650191365, 8.064315917341624, 10.927342525833224, 10.780548510767543, 38.443579004580684, 56.24821783210827, 28.77708336585669, 17.13013065188411, 11.036499255140637, 15.682905074921326, 36.56945729496449, 14.909877281018638, 24.005065810275696, 16.145203804318022, 10.102937436536054, 8.990318242452364, 8.495337687433274, 8.607418989501355, 19.514581843837487, 7.995517507634735, 7.812556479784251, 7.694790115075156, 6.9238941565658765, 6.439451892556367, 9.808600338393646, 6.108961020688929, 5.723482409634995, 9.452410475149208, 5.166798585755375, 8.697917065758677, 9.633855235832124, 4.876181649874986, 4.714413734708912, 4.886247931524848, 7.046331105559313, 4.597780255371147, 4.627770590272879, 4.377516252552276, 4.377486581250079, 4.685086119366838, 3.7283783576573253, 3.781632705478768, 9.080838942086121, 56.24821783210827, 36.56945729496449, 9.629310670330833, 10.770048004847151, 14.909877281018638, 15.682905074921326, 38.443579004580684, 22.7936263826756, 9.947388315610555, 6.841533927630079, 8.136901511610706, 7.81469799169427, 7.933867736130753, 5.9721865506945635, 5.852731663754863, 4.5541255307790625, 4.791587999746963, 4.556903859680834, 3.8520972270168783, 3.9209615557858535, 3.6709145930932077, 3.6716985397870054, 9.266511000611398, 3.6727790601466985, 3.429388489488097, 3.602011360052382, 3.2645568349855227, 3.1948189627067243, 7.653575963308216, 3.5332085537970745, 3.1413615419417886, 3.0255553226578815, 3.140695208592231, 11.596396279435172, 2.972480784787785, 2.6732427879410157, 2.732211874491059, 2.7323372397180727, 2.7264439914410348, 2.718050279476543, 10.920509010039037, 7.356108637587152, 14.071320344770035, 7.342813191161372, 7.084614168892849, 17.39200947758557, 9.668370426258445, 38.443579004580684, 15.207219319459295, 24.005065810275696, 7.664204888257515, 6.1995414219470435, 6.249117901195236, 5.859586874279511, 5.597088486456418, 4.879885969954765, 4.520275322221152, 4.232801092603301, 4.168086897182695, 4.280025171822602, 4.2368832381813535, 4.233918237812125, 4.482229281331203, 4.735988311428316, 3.6032743212362934, 3.082097185069871, 3.1293864355955563, 3.017724045228017, 2.855917715506523, 2.672610486749959, 2.6298023238467185, 2.6080201984789015, 2.6084544639907707, 2.5479668444672052, 2.4754014572718344, 2.612489433128018, 2.548534500310238, 2.550523386558118, 5.5732212154544785, 2.3946868846582365, 13.26252349572973, 7.900301504164494, 14.32370501135409, 22.7936263826756, 24.005065810275696, 10.406601980775074, 28.77708336585669, 4.680138043824138, 56.24821783210827, 4.542295798498346, 5.667369712479374, 5.446432298652521, 4.7366819857985, 4.357694333936878, 4.112925022010698, 3.878345618734783, 3.786401359847843, 3.661444773862894, 3.728572610575008, 3.3746346947082184, 3.616000376206733, 3.276512098880322, 4.052665955087404, 3.169270880956507, 3.133006368153117, 3.1190225428233003, 3.1187252754264714, 4.3189266384421625, 2.7925173892729465, 2.779701302187933, 2.8533782570539294, 3.2278166806245387, 2.667675610537876, 2.7073962922058743, 2.417300197400068, 2.3311934596015753, 2.252969068985668, 2.357060500681184, 2.221422259275013, 2.1039452847260014, 17.39200947758557, 17.13013065188411, 6.231696601394313, 7.819106691218838, 5.521244162001674, 4.016017191902509, 11.036499255140637, 36.56945729496449, 38.443579004580684, 14.907654840057155], \"Category\": [\"Default\", \"Default\", \"Default\", \"Default\", \"Default\", \"Default\", \"Default\", \"Default\", \"Default\", \"Default\", \"Default\", \"Default\", \"Default\", \"Default\", \"Default\", \"Default\", \"Default\", \"Default\", \"Default\", \"Default\", \"Default\", \"Default\", \"Default\", \"Default\", \"Default\", \"Default\", \"Default\", \"Default\", \"Default\", \"Default\", \"Topic1\", \"Topic1\", \"Topic1\", \"Topic1\", \"Topic1\", \"Topic1\", \"Topic1\", \"Topic1\", \"Topic1\", \"Topic1\", \"Topic1\", \"Topic1\", \"Topic1\", \"Topic1\", \"Topic1\", \"Topic1\", \"Topic1\", \"Topic1\", \"Topic1\", \"Topic1\", \"Topic1\", \"Topic1\", \"Topic1\", \"Topic1\", \"Topic1\", \"Topic1\", \"Topic1\", \"Topic1\", \"Topic1\", \"Topic1\", \"Topic1\", \"Topic1\", \"Topic1\", \"Topic1\", \"Topic1\", \"Topic1\", \"Topic1\", \"Topic1\", \"Topic1\", \"Topic1\", \"Topic1\", \"Topic1\", \"Topic1\", \"Topic1\", \"Topic1\", \"Topic1\", \"Topic1\", \"Topic2\", \"Topic2\", \"Topic2\", \"Topic2\", \"Topic2\", \"Topic2\", \"Topic2\", \"Topic2\", \"Topic2\", \"Topic2\", \"Topic2\", \"Topic2\", \"Topic2\", \"Topic2\", \"Topic2\", \"Topic2\", \"Topic2\", \"Topic2\", \"Topic2\", \"Topic2\", \"Topic2\", \"Topic2\", \"Topic2\", \"Topic2\", \"Topic2\", \"Topic2\", \"Topic2\", \"Topic2\", \"Topic2\", \"Topic2\", \"Topic2\", \"Topic2\", \"Topic2\", \"Topic2\", \"Topic2\", \"Topic2\", \"Topic2\", \"Topic2\", \"Topic2\", \"Topic2\", \"Topic3\", \"Topic3\", \"Topic3\", \"Topic3\", \"Topic3\", \"Topic3\", \"Topic3\", \"Topic3\", \"Topic3\", \"Topic3\", \"Topic3\", \"Topic3\", \"Topic3\", \"Topic3\", \"Topic3\", \"Topic3\", \"Topic3\", \"Topic3\", \"Topic3\", \"Topic3\", \"Topic3\", \"Topic3\", \"Topic3\", \"Topic3\", \"Topic3\", \"Topic3\", \"Topic3\", \"Topic3\", \"Topic3\", \"Topic3\", \"Topic3\", \"Topic3\", \"Topic3\", \"Topic3\", \"Topic3\", \"Topic3\", \"Topic3\", \"Topic3\", \"Topic3\", \"Topic3\", \"Topic4\", \"Topic4\", \"Topic4\", \"Topic4\", \"Topic4\", \"Topic4\", \"Topic4\", \"Topic4\", \"Topic4\", \"Topic4\", \"Topic4\", \"Topic4\", \"Topic4\", \"Topic4\", \"Topic4\", \"Topic4\", \"Topic4\", \"Topic4\", \"Topic4\", \"Topic4\", \"Topic4\", \"Topic4\", \"Topic4\", \"Topic4\", \"Topic4\", \"Topic4\", \"Topic4\", \"Topic4\", \"Topic4\", \"Topic4\", \"Topic4\", \"Topic4\", \"Topic4\", \"Topic4\", \"Topic4\", \"Topic4\", \"Topic4\", \"Topic4\", \"Topic4\", \"Topic4\", \"Topic5\", \"Topic5\", \"Topic5\", \"Topic5\", \"Topic5\", \"Topic5\", \"Topic5\", \"Topic5\", \"Topic5\", \"Topic5\", \"Topic5\", \"Topic5\", \"Topic5\", \"Topic5\", \"Topic5\", \"Topic5\", \"Topic5\", \"Topic5\", \"Topic5\", \"Topic5\", \"Topic5\", \"Topic5\", \"Topic5\", \"Topic5\", \"Topic5\", \"Topic5\", \"Topic5\", \"Topic5\", \"Topic5\", \"Topic5\", \"Topic5\", \"Topic5\", \"Topic5\", \"Topic5\", \"Topic5\", \"Topic5\", \"Topic5\", \"Topic5\", \"Topic5\", \"Topic5\"], \"logprob\": [30.0, 29.0, 28.0, 27.0, 26.0, 25.0, 24.0, 23.0, 22.0, 21.0, 20.0, 19.0, 18.0, 17.0, 16.0, 15.0, 14.0, 13.0, 12.0, 11.0, 10.0, 9.0, 8.0, 7.0, 6.0, 5.0, 4.0, 3.0, 2.0, 1.0, -4.2979, -4.3068, -4.4031, -4.6001, -4.6344, -4.6814, -4.7033, -4.7569, -4.7638, -4.9082, -4.9399, -4.9486, -5.0278, -4.9135, -5.0567, -5.1229, -4.9924, -5.2024, -5.1181, -5.2521, -5.3205, -5.3597, -5.4159, -5.4154, -4.7605, -5.426, -3.6577, -4.5893, -5.4326, -5.4276, -4.7079, -4.7622, -4.184, -4.2119, -4.8438, -4.8124, -4.6512, -4.6887, -3.8859, -3.679, -4.1242, -4.5413, -4.7594, -4.629, -4.5613, -4.8632, -4.8706, -3.789, -4.2832, -4.4053, -4.4661, -4.4533, -3.6367, -4.532, -4.5583, -4.5761, -4.6908, -4.769, -4.3486, -4.8264, -4.9009, -4.4049, -5.016, -4.498, -4.396, -5.0798, -5.1183, -5.0828, -4.7199, -5.149, -5.1476, -5.2065, -5.2066, -5.1509, -5.3932, -5.3818, -4.5058, -3.1444, -3.5575, -4.6514, -4.5776, -4.3985, -4.4935, -4.1278, -4.779, -5.0386, -5.0653, -4.0216, -4.0656, -4.0531, -4.36, -4.3862, -4.6675, -4.6178, -4.6717, -4.8702, -4.8546, -4.9253, -4.9283, -4.0045, -4.931, -5.0075, -4.9685, -5.0711, -5.0971, -4.2269, -5.0011, -5.1281, -5.1726, -5.1375, -3.8442, -5.2066, -5.3188, -5.2986, -5.299, -5.3015, -5.3094, -3.9673, -4.3475, -3.733, -4.4632, -4.6151, -4.2745, -4.6859, -4.6706, -4.9642, -4.9774, -4.0745, -4.307, -4.3059, -4.3733, -4.4234, -4.5779, -4.6731, -4.7464, -4.7636, -4.7391, -4.7496, -4.7518, -4.7074, -4.658, -4.9387, -5.1286, -5.1137, -5.1547, -5.2288, -5.3167, -5.3371, -5.3458, -5.3512, -5.3821, -5.4118, -5.3588, -5.3847, -5.3905, -4.6157, -5.4607, -3.7706, -4.293, -3.7209, -3.5232, -3.4824, -4.196, -3.5487, -5.0742, -4.1621, -5.1914, -4.2245, -4.2722, -4.4413, -4.5274, -4.5946, -4.6691, -4.6949, -4.7305, -4.7212, -4.8264, -4.7682, -4.869, -4.6633, -4.9108, -4.9254, -4.9374, -4.9451, -4.6282, -5.0672, -5.0769, -5.0514, -4.9289, -5.127, -5.1208, -5.2645, -5.3029, -5.356, -5.3189, -5.385, -5.4459, -3.6244, -3.7119, -4.6405, -4.4836, -4.7548, -4.9909, -4.4695, -4.0894, -4.121, -4.7543], \"loglift\": [30.0, 29.0, 28.0, 27.0, 26.0, 25.0, 24.0, 23.0, 22.0, 21.0, 20.0, 19.0, 18.0, 17.0, 16.0, 15.0, 14.0, 13.0, 12.0, 11.0, 10.0, 9.0, 8.0, 7.0, 6.0, 5.0, 4.0, 3.0, 2.0, 1.0, 1.1676, 1.1644, 1.1621, 1.1475, 1.1463, 1.143, 1.1393, 1.1374, 1.1361, 1.1231, 1.1177, 1.117, 1.1091, 1.1086, 1.1047, 1.0992, 1.0977, 1.0904, 1.0871, 1.0829, 1.0758, 1.0682, 1.0618, 1.0603, 1.0576, 1.0568, 1.0558, 1.0539, 1.0509, 1.0495, 1.0331, 1.0293, 0.9713, 0.9632, 1.0069, 0.9772, 0.8346, 0.8106, 0.3419, 0.1683, 0.3932, 0.4949, 0.7164, 0.4954, -0.2835, 0.3118, -0.1718, 1.3064, 1.281, 1.2756, 1.2714, 1.2711, 1.2692, 1.2661, 1.263, 1.2604, 1.2512, 1.2456, 1.2451, 1.2409, 1.2315, 1.2258, 1.2188, 1.2159, 1.2158, 1.2129, 1.2081, 1.2078, 1.2047, 1.2025, 1.1974, 1.1941, 1.194, 1.1818, 1.1678, 1.165, 1.165, 0.7028, 0.7203, 0.9608, 0.9227, 0.7765, 0.6309, 0.1, -0.0284, 0.5411, 0.8887, 1.759, 1.7554, 1.7528, 1.7299, 1.7239, 1.6935, 1.6923, 1.6887, 1.6582, 1.6561, 1.6513, 1.648, 1.6461, 1.6451, 1.6371, 1.627, 1.6228, 1.6184, 1.6149, 1.6137, 1.6043, 1.5973, 1.5951, 1.5821, 1.581, 1.5749, 1.5733, 1.5729, 1.5726, 1.5677, 1.5191, 1.534, 1.4999, 1.4201, 1.304, 0.7465, 0.9223, -0.4427, 0.191, -0.2787, 1.766, 1.7456, 1.7386, 1.7356, 1.7314, 1.714, 1.6953, 1.6877, 1.686, 1.6839, 1.6836, 1.6821, 1.6695, 1.6638, 1.6564, 1.6228, 1.6225, 1.6178, 1.5988, 1.5772, 1.573, 1.5726, 1.5671, 1.5596, 1.5588, 1.5579, 1.5568, 1.5502, 1.5433, 1.543, 1.5215, 1.5171, 1.4942, 1.2274, 1.2163, 1.3385, 0.9687, 1.2594, -0.3149, 1.1722, 1.9178, 1.9099, 1.8804, 1.8776, 1.8683, 1.8525, 1.8507, 1.8487, 1.8398, 1.8343, 1.8235, 1.8213, 1.8144, 1.8128, 1.8096, 1.8021, 1.7945, 1.7858, 1.7828, 1.7778, 1.7772, 1.7763, 1.7688, 1.7603, 1.7299, 1.7278, 1.7088, 1.7007, 1.6939, 1.6873, 1.3966, 1.3243, 1.4069, 1.3369, 1.4136, 1.4958, 1.0063, 0.1885, 0.1069, 0.4208]}, \"token.table\": {\"Topic\": [5, 1, 4, 5, 1, 4, 1, 2, 3, 1, 3, 4, 4, 3, 2, 1, 3, 1, 2, 5, 1, 1, 1, 2, 1, 3, 1, 5, 3, 3, 5, 3, 5, 2, 3, 2, 1, 2, 1, 4, 4, 3, 1, 5, 1, 3, 1, 2, 3, 3, 2, 5, 2, 1, 2, 1, 5, 2, 1, 5, 1, 2, 2, 3, 3, 3, 4, 5, 4, 3, 1, 3, 4, 5, 1, 2, 3, 4, 5, 5, 1, 5, 1, 2, 3, 4, 5, 4, 2, 2, 1, 2, 2, 2, 3, 4, 5, 5, 1, 4, 2, 3, 2, 3, 4, 4, 1, 5, 3, 3, 4, 4, 5, 1, 1, 2, 3, 4, 1, 5, 1, 2, 4, 3, 3, 3, 2, 4, 2, 5, 1, 2, 1, 2, 3, 4, 4, 2, 5, 4, 2, 3, 2, 1, 5, 2, 4, 5, 1, 2, 3, 5, 4, 5, 1, 4, 3, 4, 5, 1, 1, 2, 5, 1, 3, 2, 2, 1, 1, 2, 1, 5, 5, 1, 2, 3, 1, 2, 4, 2, 4, 4, 4, 1, 3, 1, 3, 1, 4, 3, 1, 2, 3, 4, 5, 1, 5, 4, 5, 4, 4, 5, 4, 5, 5, 5, 1, 3, 4, 1, 2, 1, 3, 3, 2, 2, 1, 3, 4, 1, 3, 3, 4, 1, 3, 5, 3, 1, 2, 3, 4, 1, 3, 1, 5, 1, 2, 1, 1, 2, 5, 4, 5, 4, 5, 4, 1, 2, 2, 4, 1, 2, 3, 5, 2, 3, 5, 5], \"Freq\": [0.9156077894616003, 0.38437138341501975, 0.5765570751225296, 0.8579296547708316, 0.7445933920659606, 0.8325760773525264, 0.9512694036015352, 0.8959935224933323, 0.731974066351474, 0.7440539977992695, 0.8347963139174809, 0.7003002884644671, 0.7849395702863675, 0.636801684712497, 0.9416929961282172, 0.2842661457484835, 0.7106653643712088, 0.8992733696336939, 0.8046393665596236, 0.7161996583021155, 0.9832291317604188, 0.8374309344097304, 0.5026444973655487, 0.402115597892439, 0.8269003944745903, 0.11812862778208433, 0.7403288038214347, 0.7387171230741706, 0.7651184428404142, 0.8633238550595974, 0.10791548188244968, 0.8490865892351458, 0.7735256975314846, 0.18314164643437722, 0.7325665857375089, 0.7933081379515384, 0.4024177990813136, 0.5365570654417514, 0.8569307660760449, 0.10711634575950561, 0.8351822581954946, 0.9189608732951663, 0.8774995885346082, 0.6412265293182604, 0.8204720019157334, 0.6728386639992313, 0.6493176106028784, 0.27827897597266216, 0.7358215611762601, 0.7787965420393205, 0.8735940188412087, 0.7923090330076775, 0.8643470807320501, 0.9727160638660844, 0.8203139848374088, 0.7909253584980892, 0.13182089308301487, 0.9677172270242484, 0.7378759515173902, 0.20123889586837912, 0.8697481004190771, 0.12424972863129673, 0.9197604368399664, 0.1149700546049958, 0.8372143029287157, 0.7481550157067625, 0.8196912847201384, 0.6412876490785194, 0.9678135190385784, 0.8957479876304678, 0.13065787872153756, 0.7839472723292255, 0.13065787872153756, 0.9179166076080133, 0.41619434023282653, 0.2861336089100682, 0.10404858505820663, 0.052024292529103316, 0.15607287758730995, 0.7402534611158937, 0.24900291811905062, 0.49800583623810124, 0.45174835249023826, 0.06949974653695973, 0.06949974653695973, 0.41699847922175837, 0.8889851113971877, 0.893321592484874, 0.8515069630018105, 0.9097064241279348, 0.8454979761005613, 0.1268246964150842, 0.9175621076914966, 0.27237517119561516, 0.680937927989038, 0.8924130714732239, 0.7497163418594008, 0.7009235438924842, 0.7440184711883014, 0.12400307853138358, 0.8463449636505253, 0.10579312045631566, 0.8537729932999772, 0.8822935083883578, 0.7841527784220639, 0.662751123040106, 0.3836755422929728, 0.5115673897239638, 0.7320076523613487, 0.8168201655669899, 0.944090213285407, 0.6391029171887422, 0.8877174691530231, 0.938745363656259, 0.3555668209737192, 0.5333502314605788, 0.01777834104868596, 0.10667004629211575, 0.7388291621059804, 0.6946170313006521, 0.8557870487117268, 0.8665643732162263, 0.8533024780206531, 0.8170605422780786, 0.8777889819865895, 0.8747915289258489, 0.22620129577647424, 0.7540043192549142, 0.9910063814568146, 0.9465899611252478, 0.9474604842010793, 0.8754905474618575, 0.13161573984033376, 0.2632314796806675, 0.08774382656022252, 0.526462959361335, 0.9447513568582746, 0.8699850314349371, 0.6383644860508166, 0.8849018510745267, 0.5846642057632254, 0.2923321028816127, 0.8484618077855183, 0.32093988650739336, 0.4814098297610901, 0.9317563202755894, 0.6410067335425649, 0.42733782236171, 0.09285009681943307, 0.6499506777360315, 0.09285009681943307, 0.09285009681943307, 0.4403059793378466, 0.4403059793378466, 0.27925735672643964, 0.6981433918160991, 0.8783244934655392, 0.8445966790812558, 0.882243483955203, 0.8988147660575933, 0.05124373189250735, 0.9223871740651324, 0.8296459313831899, 0.7399103605894564, 0.6366666088245697, 0.8186240354675827, 0.889846141621987, 0.9391855991022131, 0.9153309836608154, 0.9137601711170876, 0.8917255750386589, 0.8193486957431131, 0.8485144948218366, 0.10380060479636478, 0.8304048383709183, 0.7335562389245781, 0.6405949098283841, 0.27454067564073603, 0.7483320184199792, 0.17942944687481838, 0.7177177874992735, 0.807949754624537, 0.7655533356953469, 0.893139090649176, 0.127591298664168, 0.7890988975640466, 0.19727472439101165, 0.9019182710149956, 0.9450007010700043, 0.8172350306499837, 0.218761791717964, 0.54690447929491, 0.054690447929491, 0.0273452239647455, 0.164071343788473, 0.467013367415274, 0.467013367415274, 0.7605134355020718, 0.7294078992311367, 0.9601355095016549, 0.7667375557479068, 0.8045974460820142, 0.7847647343037876, 0.900324101664815, 0.7195017674833545, 0.47529753138529496, 0.969232886735136, 0.6610356733596414, 0.9596728903861604, 0.31154878087414845, 0.726947155373013, 0.5171502310689751, 0.4137201848551801, 0.9390203435684915, 0.9294307631309413, 0.9137663647292597, 0.9637808613315818, 0.8328680007151261, 0.9345739427734824, 0.2823018942628672, 0.5646037885257345, 0.860278324619213, 0.766865226414457, 0.9395214368826872, 0.6797071993270657, 0.13594143986541316, 0.8543019374977142, 0.2499472422788201, 0.08331574742627336, 0.12497362113941005, 0.5415523582707769, 0.17246737277741722, 0.7761031774983775, 0.6342590923239998, 0.3624337670422856, 0.9864748762570767, 0.9821637394116748, 0.909931491145692, 0.9554981147620627, 0.890830024093051, 0.6196138746061091, 0.36223719533441523, 0.5433557930016228, 0.6489088045919811, 0.8273693114951565, 0.9133367520908585, 0.5101095722879093, 0.5101095722879093, 0.25315489528415314, 0.7594646858524594, 0.8171392763423433, 0.8809758713947831, 0.11012198392434788, 0.9180321586365866, 0.11499533751850555, 0.34498601255551664, 0.517479018833275, 0.8444729901633218], \"Term\": [\"activate\", \"actually\", \"actually\", \"agree\", \"air\", \"already\", \"also\", \"area\", \"atmosphere\", \"back\", \"bad\", \"battery\", \"become\", \"benefit\", \"big\", \"book\", \"book\", \"breakthrough\", \"building\", \"burger\", \"buy\", \"capture\", \"car\", \"car\", \"carbon\", \"carbon\", \"case\", \"catalytic\", \"challenge\", \"change\", \"change\", \"citizen\", \"clear\", \"climate\", \"climate\", \"coal\", \"come\", \"come\", \"cost\", \"cost\", \"count\", \"course\", \"create\", \"current\", \"customer\", \"death\", \"demand\", \"demand\", \"democracy\", \"describe\", \"different\", \"do\", \"dollar\", \"drive\", \"educate\", \"electric\", \"electric\", \"electricity\", \"emission\", \"emission\", \"energy\", \"energy\", \"even\", \"even\", \"example\", \"farmer\", \"fossil\", \"front\", \"fuel\", \"fund\", \"future\", \"future\", \"future\", \"generation\", \"get\", \"get\", \"get\", \"get\", \"get\", \"give\", \"global\", \"global\", \"go\", \"go\", \"go\", \"go\", \"goal\", \"good\", \"government\", \"great\", \"green\", \"green\", \"hard\", \"high\", \"high\", \"hopefully\", \"huge\", \"humanity\", \"hydrogen\", \"hydrogen\", \"important\", \"important\", \"improvement\", \"individual\", \"industry\", \"infrastructure\", \"innovation\", \"innovation\", \"instead\", \"interview\", \"investment\", \"job\", \"key\", \"kind\", \"know\", \"know\", \"know\", \"know\", \"large\", \"last\", \"learn\", \"least\", \"let\", \"level\", \"life\", \"like\", \"look\", \"look\", \"lot\", \"love\", \"low\", \"m\", \"make\", \"make\", \"make\", \"make\", \"maybe\", \"mean\", \"measure\", \"mention\", \"mission\", \"mission\", \"money\", \"much\", \"much\", \"natural_ga\", \"necessary\", \"necessary\", \"need\", \"need\", \"need\", \"need\", \"number\", \"number\", \"offset\", \"offset\", \"outcome\", \"pandemic\", \"part\", \"pay\", \"people\", \"people\", \"place\", \"plane\", \"play\", \"point\", \"political\", \"power\", \"premium\", \"pretty\", \"price\", \"priority\", \"private\", \"problem\", \"problem\", \"produce\", \"product\", \"product\", \"progress\", \"project\", \"project\", \"provide\", \"purchase\", \"put\", \"put\", \"re\", \"re\", \"really\", \"reduce\", \"role\", \"s\", \"s\", \"s\", \"s\", \"s\", \"say\", \"say\", \"scaling\", \"sector\", \"see\", \"service\", \"set\", \"several\", \"share\", \"short\", \"simply\", \"solar\", \"solve\", \"sort\", \"source\", \"source\", \"start\", \"start\", \"stay\", \"steel\", \"step\", \"stop\", \"storage\", \"sure\", \"take\", \"take\", \"talk\", \"tax\", \"technology\", \"term\", \"term\", \"thank\", \"thing\", \"thing\", \"thing\", \"thing\", \"think\", \"think\", \"time\", \"time\", \"today\", \"together\", \"tonne\", \"try\", \"use\", \"value\", \"ve\", \"ve\", \"view\", \"volume\", \"want\", \"way\", \"way\", \"well\", \"well\", \"wind\", \"work\", \"work\", \"world\", \"year\", \"year\", \"year\", \"young\"]}, \"R\": 30, \"lambda.step\": 0.01, \"plot.opts\": {\"xlab\": \"PC1\", \"ylab\": \"PC2\"}, \"topic.order\": [4, 1, 5, 2, 3]};\n",
       "\n",
       "function LDAvis_load_lib(url, callback){\n",
       "  var s = document.createElement('script');\n",
       "  s.src = url;\n",
       "  s.async = true;\n",
       "  s.onreadystatechange = s.onload = callback;\n",
       "  s.onerror = function(){console.warn(\"failed to load library \" + url);};\n",
       "  document.getElementsByTagName(\"head\")[0].appendChild(s);\n",
       "}\n",
       "\n",
       "if(typeof(LDAvis) !== \"undefined\"){\n",
       "   // already loaded: just create the visualization\n",
       "   !function(LDAvis){\n",
       "       new LDAvis(\"#\" + \"ldavis_el142817325563335684065063340\", ldavis_el142817325563335684065063340_data);\n",
       "   }(LDAvis);\n",
       "}else if(typeof define === \"function\" && define.amd){\n",
       "   // require.js is available: use it to load d3/LDAvis\n",
       "   require.config({paths: {d3: \"https://d3js.org/d3.v5\"}});\n",
       "   require([\"d3\"], function(d3){\n",
       "      window.d3 = d3;\n",
       "      LDAvis_load_lib(\"https://cdn.jsdelivr.net/gh/bmabey/pyLDAvis@3.3.1/pyLDAvis/js/ldavis.v3.0.0.js\", function(){\n",
       "        new LDAvis(\"#\" + \"ldavis_el142817325563335684065063340\", ldavis_el142817325563335684065063340_data);\n",
       "      });\n",
       "    });\n",
       "}else{\n",
       "    // require.js not available: dynamically load d3 & LDAvis\n",
       "    LDAvis_load_lib(\"https://d3js.org/d3.v5.js\", function(){\n",
       "         LDAvis_load_lib(\"https://cdn.jsdelivr.net/gh/bmabey/pyLDAvis@3.3.1/pyLDAvis/js/ldavis.v3.0.0.js\", function(){\n",
       "                 new LDAvis(\"#\" + \"ldavis_el142817325563335684065063340\", ldavis_el142817325563335684065063340_data);\n",
       "            })\n",
       "         });\n",
       "}\n",
       "</script>"
      ],
      "text/plain": [
       "PreparedData(topic_coordinates=              x         y  topics  cluster       Freq\n",
       "topic                                                \n",
       "3     -0.095355  0.185872       1        1  29.377570\n",
       "0     -0.152150 -0.118454       2        1  26.061635\n",
       "4      0.161622 -0.012207       3        1  15.842479\n",
       "1      0.010510 -0.089965       4        1  15.671048\n",
       "2      0.075373  0.034755       5        1  13.047268, topic_info=         Term       Freq      Total Category  logprob  loglift\n",
       "149    people  19.000000  19.000000  Default  30.0000  30.0000\n",
       "32        say  17.000000  17.000000  Default  29.0000  29.0000\n",
       "278       lot  16.000000  16.000000  Default  28.0000  28.0000\n",
       "143      know  56.000000  56.000000  Default  27.0000  27.0000\n",
       "131      year  17.000000  17.000000  Default  26.0000  26.0000\n",
       "..        ...        ...        ...      ...      ...      ...\n",
       "16     global   2.338427   4.016017   Topic5  -4.9909   1.4958\n",
       "124      time   3.938834  11.036499   Topic5  -4.4695   1.0063\n",
       "31          s   5.760791  36.569457   Topic5  -4.0894   0.1885\n",
       "15        get   5.581510  38.443579   Topic5  -4.1210   0.1069\n",
       "13   emission   2.962791  14.907655   Topic5  -4.7543   0.4208\n",
       "\n",
       "[237 rows x 6 columns], token_table=      Topic      Freq      Term\n",
       "term                           \n",
       "455       5  0.915608  activate\n",
       "248       1  0.384371  actually\n",
       "248       4  0.576557  actually\n",
       "470       5  0.857930     agree\n",
       "220       1  0.744593       air\n",
       "...     ...       ...       ...\n",
       "38        5  0.918032     world\n",
       "131       2  0.114995      year\n",
       "131       3  0.344986      year\n",
       "131       5  0.517479      year\n",
       "39        5  0.844473     young\n",
       "\n",
       "[258 rows x 3 columns], R=30, lambda_step=0.01, plot_opts={'xlab': 'PC1', 'ylab': 'PC2'}, topic_order=[4, 1, 5, 2, 3])"
      ]
     },
     "execution_count": 21,
     "metadata": {},
     "output_type": "execute_result"
    }
   ],
   "source": [
    "# Visualizing the topics using pyLDAvis package's interactive chart\n",
    "pyLDAvis.enable_notebook()\n",
    "vis = pyLDAvis.gensim_models.prepare(lda_model, corpus, id2word)\n",
    "vis"
   ]
  },
  {
   "cell_type": "markdown",
   "id": "bcb0a68d",
   "metadata": {},
   "source": [
    "# Latent Semantic Analysis (LSA) Topic Modeling\n",
    "Latent Semantic Analysis (LSA) also known as Latent Semantic Index (LSI) is a natural language processing method that analyzes relationships between a set of documents and the terms contained within. It uses singular value decomposition, a mathematical technique, to scan unstructured data to find hidden relationships between terms and concepts.\n",
    "\n",
    "All the preprocessing work done on the ted_talk dataset is still valid here. So, I can continue straight to the LSA model.\n",
    "\n",
    "\n",
    "\n",
    "\n",
    "  \n"
   ]
  },
  {
   "cell_type": "markdown",
   "id": "2fd2c011",
   "metadata": {},
   "source": [
    "\n",
    "\n",
    "\n",
    "\n",
    "\n",
    "Again, I can obtain the coherence score with the Gensim module. Let’s see how the coherence score is for the LSA model for a total of 5 topics (The same number of topics as I initially chose for the LDA model. For comparison purposes).  \n",
    "**Note** - LsiModel does not function with the log_preplexity for the calculation of the perplexity score the same as LDA does. So, I will drop the perplexity score and focus my attention only to the coherence score."
   ]
  },
  {
   "cell_type": "code",
   "execution_count": 30,
   "id": "83c6d976",
   "metadata": {},
   "outputs": [
    {
     "name": "stdout",
     "output_type": "stream",
     "text": [
      "\n",
      "Coherence Score:  nan\n"
     ]
    }
   ],
   "source": [
    "lsi = LsiModel(corpus, num_topics=5, id2word=id2word, chunksize=10)\n",
    "\n",
    "# Computing Coherence Score\n",
    "coherence_model_lsi = CoherenceModel(model=lsi, texts=data_lemmatized, dictionary=id2word, coherence='c_v')\n",
    "coherence_lsi = coherence_model_lsi.get_coherence()\n",
    "print('\\nCoherence Score: ', coherence_lsi)"
   ]
  },
  {
   "cell_type": "markdown",
   "id": "2afbcd09",
   "metadata": {},
   "source": [
    "Again, I received the same result of coherence score of ‘nan’. The reason is the same as written above.  "
   ]
  },
  {
   "cell_type": "markdown",
   "id": "1d493565",
   "metadata": {},
   "source": [
    "### Performing SVD"
   ]
  },
  {
   "cell_type": "code",
   "execution_count": 32,
   "id": "559fa4f3",
   "metadata": {},
   "outputs": [],
   "source": [
    "# performing SVD on the bag of words with the LsiModel to extract 5 topics\n",
    "lsi = LsiModel(corpus, num_topics=5, id2word=id2word)"
   ]
  },
  {
   "cell_type": "code",
   "execution_count": 33,
   "id": "62e96bd4",
   "metadata": {},
   "outputs": [
    {
     "name": "stdout",
     "output_type": "stream",
     "text": [
      "Words in 0: 0.413*\"know\" + 0.317*\"get\" + 0.302*\"s\" + 0.248*\"go\" + 0.216*\"green\" + 0.186*\"make\" + 0.160*\"people\" + 0.154*\"thing\" + 0.146*\"year\" + 0.142*\"say\".\n",
      "Words in 1: -0.585*\"know\" + 0.279*\"s\" + -0.193*\"people\" + 0.173*\"get\" + 0.167*\"green\" + 0.155*\"hydrogen\" + 0.152*\"energy\" + 0.144*\"make\" + 0.121*\"book\" + -0.107*\"hard\".\n",
      "Words in 2: -0.540*\"offset\" + -0.320*\"look\" + -0.226*\"thing\" + 0.194*\"s\" + -0.184*\"company\" + -0.165*\"really\" + -0.139*\"actually\" + -0.138*\"way\" + -0.136*\"pay\" + -0.133*\"carbon\".\n",
      "Words in 3: 0.373*\"green\" + -0.287*\"year\" + -0.269*\"get\" + 0.220*\"product\" + 0.207*\"thing\" + 0.153*\"premium\" + -0.153*\"say\" + 0.146*\"make\" + -0.120*\"way\" + -0.112*\"term\".\n",
      "Words in 4: -0.315*\"s\" + 0.287*\"go\" + 0.279*\"get\" + 0.218*\"make\" + -0.183*\"offset\" + 0.179*\"thing\" + -0.158*\"premium\" + -0.130*\"buy\" + -0.129*\"green\" + -0.124*\"cost\".\n"
     ]
    }
   ],
   "source": [
    "# finding the 10 words with the srongest association to the derived topics\n",
    "for topic_num, words in lsi.print_topics(num_words=10):\n",
    "    print('Words in {}: {}.'.format(topic_num, words))"
   ]
  },
  {
   "cell_type": "markdown",
   "id": "dfd3b8fb",
   "metadata": {},
   "source": [
    "## \n",
    "\n",
    "# BERTopic\n",
    "\n",
    "**BERTopic** is a topic modeling technique that leverages 🤗 transformers and c-TF-IDF to create dense clusters allowing for easily interpretable topics whilst keeping important words in the topic descriptions.\n"
   ]
  },
  {
   "cell_type": "markdown",
   "id": "910e1d75",
   "metadata": {},
   "source": [
    "\n",
    "\n",
    "\n",
    "\n",
    "After preprocessing the dataset early in my project and reaching to a final lemmatized dataset (named: **data_lemmatized**) containing the final product words that I have been working with. Now, I want to add those words to my dataframe as a set of rows and their corresponding words. After doing that, I would like to convert does words back to sentences for the purpose of using the sentence transformer model from BERTopic. "
   ]
  },
  {
   "cell_type": "code",
   "execution_count": 34,
   "id": "24ba3992",
   "metadata": {},
   "outputs": [],
   "source": [
    "# Adding new column to the dataframe (named: text_cleaned) \n",
    "# containing the different lemmatized words in each corresponding row. \n",
    "df['text_cleaned'] = data_lemmatized"
   ]
  },
  {
   "cell_type": "code",
   "execution_count": 35,
   "id": "fc18a0c1",
   "metadata": {},
   "outputs": [],
   "source": [
    "# Function to make it back into a sentence \n",
    "def make_sentences(data,name):\n",
    "    data[name]=data[name].apply(lambda x:' '.join([i+' ' for i in x]))\n",
    "    # Removing double spaces if created\n",
    "    data[name]=data[name].apply(lambda x:re.sub(r'\\s+', ' ', x, flags=re.I))"
   ]
  },
  {
   "cell_type": "code",
   "execution_count": 36,
   "id": "05320873",
   "metadata": {},
   "outputs": [],
   "source": [
    "# Converting all the texts back to sentences\n",
    "make_sentences(df, 'text_cleaned')"
   ]
  },
  {
   "cell_type": "code",
   "execution_count": 37,
   "id": "a8feaef7",
   "metadata": {},
   "outputs": [
    {
     "data": {
      "text/html": [
       "<div>\n",
       "<style scoped>\n",
       "    .dataframe tbody tr th:only-of-type {\n",
       "        vertical-align: middle;\n",
       "    }\n",
       "\n",
       "    .dataframe tbody tr th {\n",
       "        vertical-align: top;\n",
       "    }\n",
       "\n",
       "    .dataframe thead th {\n",
       "        text-align: right;\n",
       "    }\n",
       "</style>\n",
       "<table border=\"1\" class=\"dataframe\">\n",
       "  <thead>\n",
       "    <tr style=\"text-align: right;\">\n",
       "      <th></th>\n",
       "      <th>Sentences</th>\n",
       "      <th>Document#</th>\n",
       "      <th>text_cleaned</th>\n",
       "    </tr>\n",
       "  </thead>\n",
       "  <tbody>\n",
       "    <tr>\n",
       "      <th>0</th>\n",
       "      <td>[\"it said that's a lie I merely asked you on T...</td>\n",
       "      <td>1</td>\n",
       "      <td>say s lie merely ask today conversation te glo...</td>\n",
       "    </tr>\n",
       "    <tr>\n",
       "      <th>1</th>\n",
       "      <td>\"Bill Gates cousin self an imperfect Messenger...</td>\n",
       "      <td>2</td>\n",
       "      <td>cousin self imperfect messenger climate high c...</td>\n",
       "    </tr>\n",
       "    <tr>\n",
       "      <th>2</th>\n",
       "      <td>\"who is the author of the book when I come bac...</td>\n",
       "      <td>3</td>\n",
       "      <td>author book come back town thank start start t...</td>\n",
       "    </tr>\n",
       "    <tr>\n",
       "      <th>3</th>\n",
       "      <td>\"you know it's pretty demanding it's not a 50%...</td>\n",
       "      <td>4</td>\n",
       "      <td>know pretty demanding reduction way scale pock...</td>\n",
       "    </tr>\n",
       "    <tr>\n",
       "      <th>4</th>\n",
       "      <td>\"manufacturing including steel and cement peop...</td>\n",
       "      <td>5</td>\n",
       "      <td>manufacturing include steel cement people leas...</td>\n",
       "    </tr>\n",
       "  </tbody>\n",
       "</table>\n",
       "</div>"
      ],
      "text/plain": [
       "                                           Sentences  Document#  \\\n",
       "0  [\"it said that's a lie I merely asked you on T...          1   \n",
       "1  \"Bill Gates cousin self an imperfect Messenger...          2   \n",
       "2  \"who is the author of the book when I come bac...          3   \n",
       "3  \"you know it's pretty demanding it's not a 50%...          4   \n",
       "4  \"manufacturing including steel and cement peop...          5   \n",
       "\n",
       "                                        text_cleaned  \n",
       "0  say s lie merely ask today conversation te glo...  \n",
       "1  cousin self imperfect messenger climate high c...  \n",
       "2  author book come back town thank start start t...  \n",
       "3  know pretty demanding reduction way scale pock...  \n",
       "4  manufacturing include steel cement people leas...  "
      ]
     },
     "execution_count": 37,
     "metadata": {},
     "output_type": "execute_result"
    }
   ],
   "source": [
    "df.head()"
   ]
  },
  {
   "cell_type": "markdown",
   "id": "0f9a1e56",
   "metadata": {},
   "source": [
    "### Importing a Pre-Trained Model from SentenceTransformer"
   ]
  },
  {
   "cell_type": "code",
   "execution_count": 38,
   "id": "6a9a3681",
   "metadata": {},
   "outputs": [],
   "source": [
    "# Getting a model\n",
    "model=SentenceTransformer('all-MiniLM-L12-v2')"
   ]
  },
  {
   "cell_type": "markdown",
   "id": "e19438dd",
   "metadata": {},
   "source": [
    "### Encodinng The Preprocessed Text Data"
   ]
  },
  {
   "cell_type": "code",
   "execution_count": 39,
   "id": "0419b8e2",
   "metadata": {},
   "outputs": [],
   "source": [
    "embeddings = model.encode(df['text_cleaned'])"
   ]
  },
  {
   "cell_type": "markdown",
   "id": "37f4610a",
   "metadata": {},
   "source": [
    "### Getting Topics Using BERTopic and SentenceTransformer Embeddings"
   ]
  },
  {
   "cell_type": "code",
   "execution_count": 51,
   "id": "7962c26f",
   "metadata": {},
   "outputs": [],
   "source": [
    "model2 = BERTopic()\n",
    "topics, probabilities = model2.fit_transform(df['text_cleaned'],embeddings)"
   ]
  },
  {
   "cell_type": "code",
   "execution_count": 52,
   "id": "03c64cc7",
   "metadata": {},
   "outputs": [
    {
     "data": {
      "text/html": [
       "<div>\n",
       "<style scoped>\n",
       "    .dataframe tbody tr th:only-of-type {\n",
       "        vertical-align: middle;\n",
       "    }\n",
       "\n",
       "    .dataframe tbody tr th {\n",
       "        vertical-align: top;\n",
       "    }\n",
       "\n",
       "    .dataframe thead th {\n",
       "        text-align: right;\n",
       "    }\n",
       "</style>\n",
       "<table border=\"1\" class=\"dataframe\">\n",
       "  <thead>\n",
       "    <tr style=\"text-align: right;\">\n",
       "      <th></th>\n",
       "      <th>Topic</th>\n",
       "      <th>Count</th>\n",
       "    </tr>\n",
       "  </thead>\n",
       "  <tbody>\n",
       "    <tr>\n",
       "      <th>0</th>\n",
       "      <td>-1</td>\n",
       "      <td>34</td>\n",
       "    </tr>\n",
       "    <tr>\n",
       "      <th>1</th>\n",
       "      <td>0</td>\n",
       "      <td>14</td>\n",
       "    </tr>\n",
       "    <tr>\n",
       "      <th>2</th>\n",
       "      <td>1</td>\n",
       "      <td>11</td>\n",
       "    </tr>\n",
       "  </tbody>\n",
       "</table>\n",
       "</div>"
      ],
      "text/plain": [
       "   Topic  Count\n",
       "0     -1     34\n",
       "1      0     14\n",
       "2      1     11"
      ]
     },
     "execution_count": 52,
     "metadata": {},
     "output_type": "execute_result"
    }
   ],
   "source": [
    "# viewing how frequent certain topics are\n",
    "model2.get_topic_freq().head()"
   ]
  },
  {
   "cell_type": "markdown",
   "id": "25d164c9",
   "metadata": {},
   "source": [
    "The topic name -1 refers to all documents that did not have any topics assigned.\n",
    "Not all documents are forced towards a certain cluster. If no cluster could be found, then it is simply an outlier."
   ]
  },
  {
   "cell_type": "markdown",
   "id": "b19771fc",
   "metadata": {},
   "source": [
    "After generating topics and their probabilities, I can access the frequent topics that were generated."
   ]
  },
  {
   "cell_type": "code",
   "execution_count": 58,
   "id": "6cda59d7",
   "metadata": {},
   "outputs": [
    {
     "data": {
      "text/plain": [
       "[('know', 0.07907707609430518),\n",
       " ('green', 0.06842145047879848),\n",
       " ('get', 0.06393522627030282),\n",
       " ('thing', 0.05675945699409091),\n",
       " ('product', 0.052837841742575185),\n",
       " ('go', 0.047782039786862365),\n",
       " ('re', 0.043394995848731285),\n",
       " ('make', 0.04217159336112181),\n",
       " ('start', 0.0418673957099745),\n",
       " ('even', 0.04038281079701216)]"
      ]
     },
     "execution_count": 58,
     "metadata": {},
     "output_type": "execute_result"
    }
   ],
   "source": [
    "model2.get_topic(0)"
   ]
  },
  {
   "cell_type": "code",
   "execution_count": 59,
   "id": "cd915ac2",
   "metadata": {},
   "outputs": [
    {
     "data": {
      "text/plain": [
       "[('know', 0.10208146889594683),\n",
       " ('get', 0.07646596104042899),\n",
       " ('people', 0.07066159902726571),\n",
       " ('go', 0.05541516985202422),\n",
       " ('young', 0.05533023632355649),\n",
       " ('year', 0.054959021465651105),\n",
       " ('think', 0.053443387531400724),\n",
       " ('climate', 0.053443387531400724),\n",
       " ('time', 0.04768860217680837),\n",
       " ('thank', 0.04587810564124359)]"
      ]
     },
     "execution_count": 59,
     "metadata": {},
     "output_type": "execute_result"
    }
   ],
   "source": [
    "model2.get_topic(1)"
   ]
  },
  {
   "cell_type": "code",
   "execution_count": 60,
   "id": "dea3cb7d",
   "metadata": {},
   "outputs": [
    {
     "data": {
      "text/plain": [
       "False"
      ]
     },
     "execution_count": 60,
     "metadata": {},
     "output_type": "execute_result"
    }
   ],
   "source": [
    "model2.get_topic(2)"
   ]
  },
  {
   "cell_type": "code",
   "execution_count": 61,
   "id": "c24ae6e4",
   "metadata": {},
   "outputs": [
    {
     "data": {
      "text/plain": [
       "{-1: [('get', 0.04883814581387286),\n",
       "  ('go', 0.046453559435876285),\n",
       "  ('know', 0.04602250476205853),\n",
       "  ('green', 0.044134917606143895),\n",
       "  ('make', 0.042951437904072846),\n",
       "  ('year', 0.0401164001431861),\n",
       "  ('say', 0.03888080752001887),\n",
       "  ('book', 0.03867278079549097),\n",
       "  ('emission', 0.03314809782470655),\n",
       "  ('carbon', 0.03173864782209457)],\n",
       " 0: [('know', 0.07907707609430518),\n",
       "  ('green', 0.06842145047879848),\n",
       "  ('get', 0.06393522627030282),\n",
       "  ('thing', 0.05675945699409091),\n",
       "  ('product', 0.052837841742575185),\n",
       "  ('go', 0.047782039786862365),\n",
       "  ('re', 0.043394995848731285),\n",
       "  ('make', 0.04217159336112181),\n",
       "  ('start', 0.0418673957099745),\n",
       "  ('even', 0.04038281079701216)],\n",
       " 1: [('know', 0.10208146889594683),\n",
       "  ('get', 0.07646596104042899),\n",
       "  ('people', 0.07066159902726571),\n",
       "  ('go', 0.05541516985202422),\n",
       "  ('young', 0.05533023632355649),\n",
       "  ('year', 0.054959021465651105),\n",
       "  ('think', 0.053443387531400724),\n",
       "  ('climate', 0.053443387531400724),\n",
       "  ('time', 0.04768860217680837),\n",
       "  ('thank', 0.04587810564124359)]}"
      ]
     },
     "execution_count": 61,
     "metadata": {},
     "output_type": "execute_result"
    }
   ],
   "source": [
    "model2.get_topics()"
   ]
  },
  {
   "cell_type": "markdown",
   "id": "cac4b39f",
   "metadata": {},
   "source": [
    "I can view all the topics discussed in all of the documents."
   ]
  },
  {
   "cell_type": "markdown",
   "id": "bb7fb33a",
   "metadata": {},
   "source": [
    "There is some favorable advantage for the LDA model over the other two models with regards to the interpretation and insights regarding the theme discussed in the recorded session. Explaining the results and reaching the relevant conclusions will take part in the paper that will be submitted along side this code implementation. "
   ]
  },
  {
   "cell_type": "markdown",
   "id": "f6ff28f6",
   "metadata": {},
   "source": [
    " \n",
    " \n",
    " ### THANK YOU\n",
    " \n",
    "      \n",
    "        \n",
    "          \n",
    "          \n",
    "\n",
    "\n",
    "\n",
    "\n",
    "\n",
    "\n",
    "\n",
    "\n",
    "\n",
    "\n",
    "\n",
    "\n",
    "\n",
    "\n",
    "\n",
    "\n",
    "\n",
    "\n",
    "\n",
    "\n",
    "\n",
    "![Thank You NLP](https://miro.medium.com/max/960/0*xLRsbQ02J7sQpNNy)\n",
    "\n",
    "\n"
   ]
  }
 ],
 "metadata": {
  "kernelspec": {
   "display_name": "Python 3 (ipykernel)",
   "language": "python",
   "name": "python3"
  },
  "language_info": {
   "codemirror_mode": {
    "name": "ipython",
    "version": 3
   },
   "file_extension": ".py",
   "mimetype": "text/x-python",
   "name": "python",
   "nbconvert_exporter": "python",
   "pygments_lexer": "ipython3",
   "version": "3.9.12"
  }
 },
 "nbformat": 4,
 "nbformat_minor": 5
}
